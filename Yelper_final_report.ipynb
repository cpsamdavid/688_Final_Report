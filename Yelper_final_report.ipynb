{
 "cells": [
  {
   "cell_type": "markdown",
   "metadata": {
    "collapsed": true
   },
   "source": [
    "## Yelper -  A recommendation system to accelerate business growth\n",
    "\n",
    "The idea behind  \"Yelper\" is to create an automated system that provides feedback to the business owners on how to improve their businesses. There are many business owners who set up businesses and open them to the public and also receive reviews that provide insight into what their diners liked in their restaurant and what they did not. Some times restaurants take these into consideration and try and improve on specific dishes or perhaps maybe train their staff members to tend to customers better. Sometimes there is an overwhelming amount of reviews, and there is no clear course of action for the owners to pursue that would ensure an improvement in their business. Also it is clearly more rewarding to make an informed decision, given all the information. It is vital that the owners understand how their restaurant compares to the others in the same category. What are their strengths and weaknesses with respect to the others. All this information can be obtained from the rich source of information available in the form of reviews. \n",
    "\n",
    "We intend to develop an automated recommender system that provides suggestions to business owners based on the information obtained from yelp reviews. Our hope is that these suggestions will provide them with some actionable feedback to accelerate the growth of their businesses. These suggestions will be based on reviews and ratings each restaurant has received when compared to other competing restaurants in their respective categories. Restaurants are categorized by the kind of food they serve and this information is available from the Yelp API. We begin by first extracting reviews from every restaurant as well as other ancillary information. We perform sentiment analysis on the reviews for each restaurant and then make suggestions based on the key topics that come up based on topic modelling of all restaurants in a given category."
   ]
  },
  {
   "cell_type": "markdown",
   "metadata": {},
   "source": [
    "## Installation of necessary libraries\n",
    "\n",
    "For this project we need the following Libraries:\n",
    "1) Beautiful Soup\n",
    "2) numpy \n",
    "3) pandas\n",
    "4) nltk\n",
    "5) gensim\n",
    "6) textblob\n",
    "\n",
    "We have used most of the above libraries in the duration of the course and assume that these libraries are already installed on the users computer. We use the **gensim** and **textblob** library that has not been introduced in the course and can be installed as follows :\n",
    "\n",
    "*conda install -c anaconda gensim=0.13.3*\n",
    "\n",
    "*pip install -U textblob*\n",
    "*python -m textblob.download_corpora*\n",
    "\n",
    "\n",
    "The nltk library is a useful library for any natual language processing task including but not limited to pos tagging, detection stop words,tokenization and lemmatization. We use this library to perform the aforementioned tasks in our project. We also use gensim library[1], which is used frequently for topic modelling. In our project we hope to obtain the most relevant topics from the reviews of each category of restaurant via topic modelling and provide each restaurant with suggestions for improvement based on  the topics derived from the model.\n",
    "\n",
    "We use textblob library[2] to perform sentiment analysis on the reviews."
   ]
  },
  {
   "cell_type": "markdown",
   "metadata": {},
   "source": [
    "## Imports"
   ]
  },
  {
   "cell_type": "code",
   "execution_count": 255,
   "metadata": {
    "collapsed": false
   },
   "outputs": [],
   "source": [
    "# setup library imports\n",
    "import io, time, json\n",
    "import requests\n",
    "from bs4 import BeautifulSoup\n",
    "import pandas as pd\n",
    "import numpy as np\n",
    "import nltk\n",
    "import string\n",
    "from collections import Counter\n",
    "from gensim import corpora, models\n",
    "from nltk.tokenize import word_tokenize\n",
    "import gensim\n",
    "from textblob import TextBlob\n",
    "\n",
    "# import yelp client library\n",
    "from yelp.client import Client\n",
    "from yelp.oauth1_authenticator import Oauth1Authenticator"
   ]
  },
  {
   "cell_type": "markdown",
   "metadata": {},
   "source": [
    "### Set up plot parameters"
   ]
  },
  {
   "cell_type": "code",
   "execution_count": 4,
   "metadata": {
    "collapsed": false
   },
   "outputs": [],
   "source": [
    "import matplotlib\n",
    "# Use svg backend for better quality\n",
    "matplotlib.use(\"svg\")\n",
    "import matplotlib.pyplot as plt\n",
    "%matplotlib inline\n",
    "matplotlib.rcParams['figure.figsize'] = (8.0, 4.0) \n",
    "plt.style.use('ggplot')"
   ]
  },
  {
   "cell_type": "markdown",
   "metadata": {},
   "source": [
    "### Client authentication and API Query"
   ]
  },
  {
   "cell_type": "code",
   "execution_count": 6,
   "metadata": {
    "collapsed": true
   },
   "outputs": [],
   "source": [
    "# To authenticate the api calls\n",
    "def authenticate(config_filepath):\n",
    "    \"\"\"\n",
    "    Create an authenticated yelp-python client.\n",
    "\n",
    "    Args:\n",
    "        config_filepath (string): relative path (from this file) to a file with your Yelp credentials\n",
    "\n",
    "    Returns:\n",
    "        client (yelp.client.Client): authenticated instance of a yelp.Client\n",
    "    \"\"\"\n",
    "    with io.open(config_filepath) as cred:\n",
    "        creds = json.load(cred)\n",
    "        auth = Oauth1Authenticator(**creds)\n",
    "        client = Client(auth)\n",
    "    return client"
   ]
  },
  {
   "cell_type": "code",
   "execution_count": 7,
   "metadata": {
    "collapsed": true
   },
   "outputs": [],
   "source": [
    "# To get business object corresponding to the search query\n",
    "def yelp_search(client, query):\n",
    "    \"\"\"\n",
    "    Make an authenticated request to the Yelp API.\n",
    "\n",
    "    Args:\n",
    "        query (string): Search term\n",
    "\n",
    "    Returns:\n",
    "        total (integer): total number of businesses on Yelp corresponding to the query\n",
    "        businesses (list): list of yelp.obj.business.Business objects\n",
    "    \"\"\"\n",
    "    \n",
    "    # Write solution here\n",
    "    response = client.search(query)\n",
    "    return response.total , response.businesses"
   ]
  },
  {
   "cell_type": "code",
   "execution_count": 8,
   "metadata": {
    "collapsed": true
   },
   "outputs": [],
   "source": [
    "y_client = authenticate('yelp_api_keys.json')"
   ]
  },
  {
   "cell_type": "code",
   "execution_count": 9,
   "metadata": {
    "collapsed": true
   },
   "outputs": [],
   "source": [
    "def all_restaurants(client, query):\n",
    "    \"\"\"\n",
    "    Retrieve ALL the restaurants on Yelp for a given query.\n",
    "\n",
    "    Args:\n",
    "        query (string): Search term\n",
    "\n",
    "    Returns:\n",
    "        results (list): list of yelp.obj.business.Business objects\n",
    "    \"\"\"\n",
    "    query_output = 20\n",
    "    offset = 0\n",
    "    businesses = []\n",
    "    while(query_output!=0):\n",
    "        params = {\n",
    "        \"category_filter\" : \"restaurants\",\n",
    "        \"offset\" : offset\n",
    "        }\n",
    "        if offset == 980:\n",
    "            break\n",
    "        response = client.search(query,**params)\n",
    "        businesses.extend(response.businesses)\n",
    "        offset += 20 \n",
    "        query_output = len(response.businesses)\n",
    "        time.sleep(0.3)\n",
    "    return businesses"
   ]
  },
  {
   "cell_type": "markdown",
   "metadata": {},
   "source": [
    "### Obtaining Data from the Yelp API\n",
    "\n",
    " We use Yelp to retrieve restaurant relevant data(reviews, ratings, location etc)from the API for different locations in Pittsburgh. We specifically limit the analysis to the Oakland, Shadyside and Squirrel Hill locations as shown below.\n"
   ]
  },
  {
   "cell_type": "code",
   "execution_count": 24,
   "metadata": {
    "collapsed": false
   },
   "outputs": [],
   "source": [
    "oakland_data = all_restaurants(y_client, 'Oakland, Pittsburgh')"
   ]
  },
  {
   "cell_type": "code",
   "execution_count": 25,
   "metadata": {
    "collapsed": true
   },
   "outputs": [],
   "source": [
    "Shadyside_data = all_restaurants(y_client, 'Shadyside, Pittsburgh')"
   ]
  },
  {
   "cell_type": "code",
   "execution_count": 26,
   "metadata": {
    "collapsed": true
   },
   "outputs": [],
   "source": [
    "Squirrel_hill_data = all_restaurants(y_client, 'Squirrel Hill, Pittsburgh')"
   ]
  },
  {
   "cell_type": "markdown",
   "metadata": {},
   "source": [
    "Concatenate the data obtained from all three locations into one single data frame and use it to build a dictionary containing keys that pertain to the relevant subset of the restaurant data required for our analysis. We make sure to include the keys/fields such as the name of the restaurant, its location, number of reviews and ratings it has received and which broad categories of restaurants it falls under."
   ]
  },
  {
   "cell_type": "code",
   "execution_count": 27,
   "metadata": {
    "collapsed": true
   },
   "outputs": [],
   "source": [
    "total_data = oakland_data + Shadyside_data + Squirrel_hill_data"
   ]
  },
  {
   "cell_type": "code",
   "execution_count": 28,
   "metadata": {
    "collapsed": false
   },
   "outputs": [],
   "source": [
    "res_dict = {'Res_id' : [i.id for i in total_data] ,\n",
    "              'Name' : [i.name for i in total_data],\n",
    "      'Neighbourhood': ['Oakland']*len(oakland_data) + ['Shadyside']*len(Shadyside_data) + ['Squirrel Hill']*len(Squirrel_hill_data) ,\n",
    "               'Url' : [i.url for i in total_data],\n",
    "      'Review_count' : [i.review_count for i in total_data],\n",
    "             'Rating': [i.rating for i in total_data],\n",
    "         'Categories': [[j.name for j in i] for i in [k.categories for k in total_data]]}"
   ]
  },
  {
   "cell_type": "code",
   "execution_count": 29,
   "metadata": {
    "collapsed": true
   },
   "outputs": [],
   "source": [
    "total_df = pd.DataFrame(res_dict)"
   ]
  },
  {
   "cell_type": "code",
   "execution_count": 30,
   "metadata": {
    "collapsed": false
   },
   "outputs": [],
   "source": [
    "total_df = total_df[['Res_id', 'Name','Neighbourhood', 'Url', 'Categories','Review_count','Rating']]"
   ]
  },
  {
   "cell_type": "markdown",
   "metadata": {},
   "source": [
    "Here is a glimpse into our data set ! "
   ]
  },
  {
   "cell_type": "code",
   "execution_count": 31,
   "metadata": {
    "collapsed": false
   },
   "outputs": [
    {
     "data": {
      "text/html": [
       "<div>\n",
       "<table border=\"1\" class=\"dataframe\">\n",
       "  <thead>\n",
       "    <tr style=\"text-align: right;\">\n",
       "      <th></th>\n",
       "      <th>Res_id</th>\n",
       "      <th>Name</th>\n",
       "      <th>Neighbourhood</th>\n",
       "      <th>Url</th>\n",
       "      <th>Categories</th>\n",
       "      <th>Review_count</th>\n",
       "      <th>Rating</th>\n",
       "    </tr>\n",
       "  </thead>\n",
       "  <tbody>\n",
       "    <tr>\n",
       "      <th>0</th>\n",
       "      <td>conflict-kitchen-pittsburgh</td>\n",
       "      <td>Conflict Kitchen</td>\n",
       "      <td>Oakland</td>\n",
       "      <td>https://www.yelp.com/biz/conflict-kitchen-pitt...</td>\n",
       "      <td>[Restaurants]</td>\n",
       "      <td>148</td>\n",
       "      <td>4.5</td>\n",
       "    </tr>\n",
       "    <tr>\n",
       "      <th>1</th>\n",
       "      <td>legume-pittsburgh</td>\n",
       "      <td>Legume</td>\n",
       "      <td>Oakland</td>\n",
       "      <td>https://www.yelp.com/biz/legume-pittsburgh?adj...</td>\n",
       "      <td>[French, American (Traditional), Soul Food]</td>\n",
       "      <td>298</td>\n",
       "      <td>4.5</td>\n",
       "    </tr>\n",
       "    <tr>\n",
       "      <th>2</th>\n",
       "      <td>butterjoint-pittsburgh-3</td>\n",
       "      <td>Butterjoint</td>\n",
       "      <td>Oakland</td>\n",
       "      <td>https://www.yelp.com/biz/butterjoint-pittsburg...</td>\n",
       "      <td>[American (New), Bars]</td>\n",
       "      <td>139</td>\n",
       "      <td>4.0</td>\n",
       "    </tr>\n",
       "    <tr>\n",
       "      <th>3</th>\n",
       "      <td>oishii-bento-pittsburgh</td>\n",
       "      <td>Oishii Bento</td>\n",
       "      <td>Oakland</td>\n",
       "      <td>https://www.yelp.com/biz/oishii-bento-pittsbur...</td>\n",
       "      <td>[Japanese, Korean, Sushi Bars]</td>\n",
       "      <td>196</td>\n",
       "      <td>4.0</td>\n",
       "    </tr>\n",
       "    <tr>\n",
       "      <th>4</th>\n",
       "      <td>sichuan-gourmet-pittsburgh-7</td>\n",
       "      <td>Sichuan Gourmet</td>\n",
       "      <td>Oakland</td>\n",
       "      <td>https://www.yelp.com/biz/sichuan-gourmet-pitts...</td>\n",
       "      <td>[Szechuan]</td>\n",
       "      <td>73</td>\n",
       "      <td>4.0</td>\n",
       "    </tr>\n",
       "  </tbody>\n",
       "</table>\n",
       "</div>"
      ],
      "text/plain": [
       "                         Res_id              Name Neighbourhood  \\\n",
       "0   conflict-kitchen-pittsburgh  Conflict Kitchen       Oakland   \n",
       "1             legume-pittsburgh            Legume       Oakland   \n",
       "2      butterjoint-pittsburgh-3       Butterjoint       Oakland   \n",
       "3       oishii-bento-pittsburgh      Oishii Bento       Oakland   \n",
       "4  sichuan-gourmet-pittsburgh-7   Sichuan Gourmet       Oakland   \n",
       "\n",
       "                                                 Url  \\\n",
       "0  https://www.yelp.com/biz/conflict-kitchen-pitt...   \n",
       "1  https://www.yelp.com/biz/legume-pittsburgh?adj...   \n",
       "2  https://www.yelp.com/biz/butterjoint-pittsburg...   \n",
       "3  https://www.yelp.com/biz/oishii-bento-pittsbur...   \n",
       "4  https://www.yelp.com/biz/sichuan-gourmet-pitts...   \n",
       "\n",
       "                                    Categories  Review_count  Rating  \n",
       "0                                [Restaurants]           148     4.5  \n",
       "1  [French, American (Traditional), Soul Food]           298     4.5  \n",
       "2                       [American (New), Bars]           139     4.0  \n",
       "3               [Japanese, Korean, Sushi Bars]           196     4.0  \n",
       "4                                   [Szechuan]            73     4.0  "
      ]
     },
     "execution_count": 31,
     "metadata": {},
     "output_type": "execute_result"
    }
   ],
   "source": [
    "total_df.head()"
   ]
  },
  {
   "cell_type": "code",
   "execution_count": 32,
   "metadata": {
    "collapsed": false
   },
   "outputs": [
    {
     "data": {
      "text/plain": [
       "2480"
      ]
     },
     "execution_count": 32,
     "metadata": {},
     "output_type": "execute_result"
    }
   ],
   "source": [
    "len(total_df)"
   ]
  },
  {
   "cell_type": "markdown",
   "metadata": {},
   "source": [
    "## Exploratory Data Analysis"
   ]
  },
  {
   "cell_type": "markdown",
   "metadata": {},
   "source": [
    "Before digging into the data, lets see if there are any duplicates. "
   ]
  },
  {
   "cell_type": "code",
   "execution_count": 33,
   "metadata": {
    "collapsed": false,
    "scrolled": true
   },
   "outputs": [
    {
     "data": {
      "text/plain": [
       "mcdonalds-pittsburgh-17                      4\n",
       "little-tokyo-bistro-pittsburgh               4\n",
       "applewood-smoke-burger-company-pittsburgh    4\n",
       "vocelli-pizza-pittsburgh-5                   4\n",
       "shiraz-kabob-and-hookah-pittsburgh           4\n",
       "Name: Res_id, dtype: int64"
      ]
     },
     "execution_count": 33,
     "metadata": {},
     "output_type": "execute_result"
    }
   ],
   "source": [
    "total_df['Res_id'].value_counts().head()"
   ]
  },
  {
   "cell_type": "code",
   "execution_count": 34,
   "metadata": {
    "collapsed": true
   },
   "outputs": [],
   "source": [
    "# Removing the duplicates, assuming that the restaurant falls in the first location \n",
    "total_df.drop_duplicates(subset = 'Res_id', keep = 'first', inplace = True)"
   ]
  },
  {
   "cell_type": "code",
   "execution_count": 37,
   "metadata": {
    "collapsed": false
   },
   "outputs": [
    {
     "data": {
      "text/plain": [
       "<matplotlib.text.Text at 0xfaedf28>"
      ]
     },
     "execution_count": 37,
     "metadata": {},
     "output_type": "execute_result"
    },
    {
     "data": {
      "image/png": "[encoded data removed]",
      "text/plain": [
       "<matplotlib.figure.Figure at 0xda65e48>"
      ]
     },
     "metadata": {},
     "output_type": "display_data"
    }
   ],
   "source": [
    "# overall Rating Distribution \n",
    "total_df['Rating'].plot.hist(bins = 8)\n",
    "plt.title('Overall Rating Distribution')\n",
    "plt.ylabel(\"Frequency\")\n",
    "plt.xlabel(\"Rating\")"
   ]
  },
  {
   "cell_type": "markdown",
   "metadata": {},
   "source": [
    "From the plot above, we get a sense of the range of ratings for restaurants in the three specific locations. Most restaurants seem to fall into the category with 4-4.5 stars."
   ]
  },
  {
   "cell_type": "markdown",
   "metadata": {},
   "source": [
    "###  Distribution of the number of reviews"
   ]
  },
  {
   "cell_type": "code",
   "execution_count": 38,
   "metadata": {
    "collapsed": false,
    "scrolled": false
   },
   "outputs": [
    {
     "data": {
      "text/plain": [
       "<matplotlib.text.Text at 0xfab7f28>"
      ]
     },
     "execution_count": 38,
     "metadata": {},
     "output_type": "execute_result"
    },
    {
     "data": {
      "image/png": "[encoded data removed]",
      "text/plain": [
       "<matplotlib.figure.Figure at 0x106a7630>"
      ]
     },
     "metadata": {},
     "output_type": "display_data"
    }
   ],
   "source": [
    "# Overall Distribution of review count\n",
    "total_df['Review_count'].plot.hist(bins = 20)\n",
    "plt.title('Overall Review Count Distribution')\n",
    "plt.ylabel(\"Frequency\")\n",
    "plt.xlabel(\"Review Count\")"
   ]
  },
  {
   "cell_type": "code",
   "execution_count": 39,
   "metadata": {
    "collapsed": true
   },
   "outputs": [],
   "source": [
    "total_df[['cat1','cat2','cat3']] = total_df['Categories'].apply(lambda x : pd.Series(x))"
   ]
  },
  {
   "cell_type": "code",
   "execution_count": 40,
   "metadata": {
    "collapsed": false,
    "scrolled": true
   },
   "outputs": [
    {
     "data": {
      "text/html": [
       "<div>\n",
       "<table border=\"1\" class=\"dataframe\">\n",
       "  <thead>\n",
       "    <tr style=\"text-align: right;\">\n",
       "      <th></th>\n",
       "      <th>Res_id</th>\n",
       "      <th>Name</th>\n",
       "      <th>Neighbourhood</th>\n",
       "      <th>Url</th>\n",
       "      <th>Categories</th>\n",
       "      <th>Review_count</th>\n",
       "      <th>Rating</th>\n",
       "      <th>cat1</th>\n",
       "      <th>cat2</th>\n",
       "      <th>cat3</th>\n",
       "    </tr>\n",
       "  </thead>\n",
       "  <tbody>\n",
       "    <tr>\n",
       "      <th>0</th>\n",
       "      <td>conflict-kitchen-pittsburgh</td>\n",
       "      <td>Conflict Kitchen</td>\n",
       "      <td>Oakland</td>\n",
       "      <td>https://www.yelp.com/biz/conflict-kitchen-pitt...</td>\n",
       "      <td>[Restaurants]</td>\n",
       "      <td>148</td>\n",
       "      <td>4.5</td>\n",
       "      <td>Restaurants</td>\n",
       "      <td>NaN</td>\n",
       "      <td>NaN</td>\n",
       "    </tr>\n",
       "    <tr>\n",
       "      <th>1</th>\n",
       "      <td>legume-pittsburgh</td>\n",
       "      <td>Legume</td>\n",
       "      <td>Oakland</td>\n",
       "      <td>https://www.yelp.com/biz/legume-pittsburgh?adj...</td>\n",
       "      <td>[French, American (Traditional), Soul Food]</td>\n",
       "      <td>298</td>\n",
       "      <td>4.5</td>\n",
       "      <td>French</td>\n",
       "      <td>American (Traditional)</td>\n",
       "      <td>Soul Food</td>\n",
       "    </tr>\n",
       "    <tr>\n",
       "      <th>2</th>\n",
       "      <td>butterjoint-pittsburgh-3</td>\n",
       "      <td>Butterjoint</td>\n",
       "      <td>Oakland</td>\n",
       "      <td>https://www.yelp.com/biz/butterjoint-pittsburg...</td>\n",
       "      <td>[American (New), Bars]</td>\n",
       "      <td>139</td>\n",
       "      <td>4.0</td>\n",
       "      <td>American (New)</td>\n",
       "      <td>Bars</td>\n",
       "      <td>NaN</td>\n",
       "    </tr>\n",
       "    <tr>\n",
       "      <th>3</th>\n",
       "      <td>oishii-bento-pittsburgh</td>\n",
       "      <td>Oishii Bento</td>\n",
       "      <td>Oakland</td>\n",
       "      <td>https://www.yelp.com/biz/oishii-bento-pittsbur...</td>\n",
       "      <td>[Japanese, Korean, Sushi Bars]</td>\n",
       "      <td>196</td>\n",
       "      <td>4.0</td>\n",
       "      <td>Japanese</td>\n",
       "      <td>Korean</td>\n",
       "      <td>Sushi Bars</td>\n",
       "    </tr>\n",
       "    <tr>\n",
       "      <th>4</th>\n",
       "      <td>sichuan-gourmet-pittsburgh-7</td>\n",
       "      <td>Sichuan Gourmet</td>\n",
       "      <td>Oakland</td>\n",
       "      <td>https://www.yelp.com/biz/sichuan-gourmet-pitts...</td>\n",
       "      <td>[Szechuan]</td>\n",
       "      <td>73</td>\n",
       "      <td>4.0</td>\n",
       "      <td>Szechuan</td>\n",
       "      <td>NaN</td>\n",
       "      <td>NaN</td>\n",
       "    </tr>\n",
       "  </tbody>\n",
       "</table>\n",
       "</div>"
      ],
      "text/plain": [
       "                         Res_id              Name Neighbourhood  \\\n",
       "0   conflict-kitchen-pittsburgh  Conflict Kitchen       Oakland   \n",
       "1             legume-pittsburgh            Legume       Oakland   \n",
       "2      butterjoint-pittsburgh-3       Butterjoint       Oakland   \n",
       "3       oishii-bento-pittsburgh      Oishii Bento       Oakland   \n",
       "4  sichuan-gourmet-pittsburgh-7   Sichuan Gourmet       Oakland   \n",
       "\n",
       "                                                 Url  \\\n",
       "0  https://www.yelp.com/biz/conflict-kitchen-pitt...   \n",
       "1  https://www.yelp.com/biz/legume-pittsburgh?adj...   \n",
       "2  https://www.yelp.com/biz/butterjoint-pittsburg...   \n",
       "3  https://www.yelp.com/biz/oishii-bento-pittsbur...   \n",
       "4  https://www.yelp.com/biz/sichuan-gourmet-pitts...   \n",
       "\n",
       "                                    Categories  Review_count  Rating  \\\n",
       "0                                [Restaurants]           148     4.5   \n",
       "1  [French, American (Traditional), Soul Food]           298     4.5   \n",
       "2                       [American (New), Bars]           139     4.0   \n",
       "3               [Japanese, Korean, Sushi Bars]           196     4.0   \n",
       "4                                   [Szechuan]            73     4.0   \n",
       "\n",
       "             cat1                    cat2        cat3  \n",
       "0     Restaurants                     NaN         NaN  \n",
       "1          French  American (Traditional)   Soul Food  \n",
       "2  American (New)                    Bars         NaN  \n",
       "3        Japanese                  Korean  Sushi Bars  \n",
       "4        Szechuan                     NaN         NaN  "
      ]
     },
     "execution_count": 40,
     "metadata": {},
     "output_type": "execute_result"
    }
   ],
   "source": [
    "total_df.head()"
   ]
  },
  {
   "cell_type": "code",
   "execution_count": 41,
   "metadata": {
    "collapsed": true
   },
   "outputs": [],
   "source": [
    "melted_total = pd.melt(total_df, id_vars = ['Res_id','Name', 'Neighbourhood','Url','Review_count', 'Rating'], \n",
    "                        value_vars = ['cat1','cat2','cat3'], value_name = 'Categories').drop('variable',axis = 1)"
   ]
  },
  {
   "cell_type": "code",
   "execution_count": 42,
   "metadata": {
    "collapsed": false
   },
   "outputs": [
    {
     "data": {
      "text/html": [
       "<div>\n",
       "<table border=\"1\" class=\"dataframe\">\n",
       "  <thead>\n",
       "    <tr style=\"text-align: right;\">\n",
       "      <th></th>\n",
       "      <th>Res_id</th>\n",
       "      <th>Name</th>\n",
       "      <th>Neighbourhood</th>\n",
       "      <th>Url</th>\n",
       "      <th>Review_count</th>\n",
       "      <th>Rating</th>\n",
       "      <th>Categories</th>\n",
       "    </tr>\n",
       "  </thead>\n",
       "  <tbody>\n",
       "    <tr>\n",
       "      <th>0</th>\n",
       "      <td>conflict-kitchen-pittsburgh</td>\n",
       "      <td>Conflict Kitchen</td>\n",
       "      <td>Oakland</td>\n",
       "      <td>https://www.yelp.com/biz/conflict-kitchen-pitt...</td>\n",
       "      <td>148</td>\n",
       "      <td>4.5</td>\n",
       "      <td>Restaurants</td>\n",
       "    </tr>\n",
       "    <tr>\n",
       "      <th>1</th>\n",
       "      <td>legume-pittsburgh</td>\n",
       "      <td>Legume</td>\n",
       "      <td>Oakland</td>\n",
       "      <td>https://www.yelp.com/biz/legume-pittsburgh?adj...</td>\n",
       "      <td>298</td>\n",
       "      <td>4.5</td>\n",
       "      <td>French</td>\n",
       "    </tr>\n",
       "    <tr>\n",
       "      <th>2</th>\n",
       "      <td>butterjoint-pittsburgh-3</td>\n",
       "      <td>Butterjoint</td>\n",
       "      <td>Oakland</td>\n",
       "      <td>https://www.yelp.com/biz/butterjoint-pittsburg...</td>\n",
       "      <td>139</td>\n",
       "      <td>4.0</td>\n",
       "      <td>American (New)</td>\n",
       "    </tr>\n",
       "    <tr>\n",
       "      <th>3</th>\n",
       "      <td>oishii-bento-pittsburgh</td>\n",
       "      <td>Oishii Bento</td>\n",
       "      <td>Oakland</td>\n",
       "      <td>https://www.yelp.com/biz/oishii-bento-pittsbur...</td>\n",
       "      <td>196</td>\n",
       "      <td>4.0</td>\n",
       "      <td>Japanese</td>\n",
       "    </tr>\n",
       "    <tr>\n",
       "      <th>4</th>\n",
       "      <td>sichuan-gourmet-pittsburgh-7</td>\n",
       "      <td>Sichuan Gourmet</td>\n",
       "      <td>Oakland</td>\n",
       "      <td>https://www.yelp.com/biz/sichuan-gourmet-pitts...</td>\n",
       "      <td>73</td>\n",
       "      <td>4.0</td>\n",
       "      <td>Szechuan</td>\n",
       "    </tr>\n",
       "  </tbody>\n",
       "</table>\n",
       "</div>"
      ],
      "text/plain": [
       "                         Res_id              Name Neighbourhood  \\\n",
       "0   conflict-kitchen-pittsburgh  Conflict Kitchen       Oakland   \n",
       "1             legume-pittsburgh            Legume       Oakland   \n",
       "2      butterjoint-pittsburgh-3       Butterjoint       Oakland   \n",
       "3       oishii-bento-pittsburgh      Oishii Bento       Oakland   \n",
       "4  sichuan-gourmet-pittsburgh-7   Sichuan Gourmet       Oakland   \n",
       "\n",
       "                                                 Url  Review_count  Rating  \\\n",
       "0  https://www.yelp.com/biz/conflict-kitchen-pitt...           148     4.5   \n",
       "1  https://www.yelp.com/biz/legume-pittsburgh?adj...           298     4.5   \n",
       "2  https://www.yelp.com/biz/butterjoint-pittsburg...           139     4.0   \n",
       "3  https://www.yelp.com/biz/oishii-bento-pittsbur...           196     4.0   \n",
       "4  https://www.yelp.com/biz/sichuan-gourmet-pitts...            73     4.0   \n",
       "\n",
       "       Categories  \n",
       "0     Restaurants  \n",
       "1          French  \n",
       "2  American (New)  \n",
       "3        Japanese  \n",
       "4        Szechuan  "
      ]
     },
     "execution_count": 42,
     "metadata": {},
     "output_type": "execute_result"
    }
   ],
   "source": [
    "melted_total.head()"
   ]
  },
  {
   "cell_type": "code",
   "execution_count": 43,
   "metadata": {
    "collapsed": true
   },
   "outputs": [],
   "source": [
    "melted_total = melted_total.dropna(subset=['Categories'])"
   ]
  },
  {
   "cell_type": "code",
   "execution_count": 44,
   "metadata": {
    "collapsed": true
   },
   "outputs": [],
   "source": [
    "top10_categories = melted_total['Categories'].value_counts()[:10]"
   ]
  },
  {
   "cell_type": "markdown",
   "metadata": {},
   "source": [
    "The top 10 categories of restaurant types are as shown below :"
   ]
  },
  {
   "cell_type": "code",
   "execution_count": 45,
   "metadata": {
    "collapsed": false
   },
   "outputs": [
    {
     "data": {
      "text/plain": [
       "Pizza                     164\n",
       "Sandwiches                162\n",
       "American (Traditional)    125\n",
       "American (New)            114\n",
       "Italian                    88\n",
       "Fast Food                  78\n",
       "Bars                       72\n",
       "Breakfast & Brunch         63\n",
       "Burgers                    63\n",
       "Chinese                    55\n",
       "Name: Categories, dtype: int64"
      ]
     },
     "execution_count": 45,
     "metadata": {},
     "output_type": "execute_result"
    }
   ],
   "source": [
    "top10_categories"
   ]
  },
  {
   "cell_type": "code",
   "execution_count": 47,
   "metadata": {
    "collapsed": false
   },
   "outputs": [
    {
     "data": {
      "text/plain": [
       "<matplotlib.axes._subplots.AxesSubplot at 0x10bb9470>"
      ]
     },
     "execution_count": 47,
     "metadata": {},
     "output_type": "execute_result"
    },
    {
     "data": {
      "image/png": "[encoded data removed]",
      "text/plain": [
       "<matplotlib.figure.Figure at 0x10c4b9e8>"
      ]
     },
     "metadata": {},
     "output_type": "display_data"
    }
   ],
   "source": [
    "# Top 10 Restaurant Categories grouped by Neighbourhood \n",
    "melted_total.groupby('Categories')['Neighbourhood'].value_counts().ix[top10_categories.index].unstack().plot.bar(legend=True,figsize=(10, 5))"
   ]
  },
  {
   "cell_type": "markdown",
   "metadata": {},
   "source": [
    "The above plot provides some insight of the number of restaurants per location, but limited to the top 10 categories of restaurants. It is evident that squirrel hill houses the majority of the number of restaurants with exception of the fast food category. Of the three locations, the number of restaurants in shadyside are smaller in number when compared to the other two locations."
   ]
  },
  {
   "cell_type": "code",
   "execution_count": 48,
   "metadata": {
    "collapsed": false,
    "scrolled": false
   },
   "outputs": [
    {
     "data": {
      "text/plain": [
       "<matplotlib.axes._subplots.AxesSubplot at 0x111c04a8>"
      ]
     },
     "execution_count": 48,
     "metadata": {},
     "output_type": "execute_result"
    },
    {
     "data": {
      "image/png": "[encoded data removed]",
      "text/plain": [
       "<matplotlib.figure.Figure at 0x1128e6a0>"
      ]
     },
     "metadata": {},
     "output_type": "display_data"
    }
   ],
   "source": [
    "# Ratings distribution across top 10 categories grouped by neighbourhood\n",
    "melted_total.groupby(['Categories','Neighbourhood']).mean().unstack()['Rating'].ix[top10_categories.index].plot.bar(legend=True,figsize=(10, 5))"
   ]
  },
  {
   "cell_type": "code",
   "execution_count": 51,
   "metadata": {
    "collapsed": false
   },
   "outputs": [
    {
     "data": {
      "text/plain": [
       "<matplotlib.axes._subplots.AxesSubplot at 0x12282860>"
      ]
     },
     "execution_count": 51,
     "metadata": {},
     "output_type": "execute_result"
    },
    {
     "data": {
      "image/png": "[encoded data removed]",
      "text/plain": [
       "<matplotlib.figure.Figure at 0x10ab8208>"
      ]
     },
     "metadata": {},
     "output_type": "display_data"
    }
   ],
   "source": [
    "# Review_count distribution across categories\n",
    "melted_total.groupby(['Categories','Neighbourhood']).mean().unstack()['Review_count'].ix[top10_categories.index].plot.bar(legend=True,figsize=(10, 5))"
   ]
  },
  {
   "cell_type": "markdown",
   "metadata": {
    "collapsed": true
   },
   "source": [
    "##  Parse reviews of a restaurant"
   ]
  },
  {
   "cell_type": "code",
   "execution_count": 58,
   "metadata": {
    "collapsed": true
   },
   "outputs": [],
   "source": [
    "def retrieve_html(url):\n",
    "    \"\"\"\n",
    "    Return the raw HTML at the specified URL.\n",
    "\n",
    "    Args:\n",
    "        url (string): \n",
    "\n",
    "    Returns:\n",
    "        status_code (integer):\n",
    "        raw_html (string): the raw HTML content of the response, properly encoded according to the HTTP headers.\n",
    "    \"\"\"\n",
    "\n",
    "    r = requests.get(url)\n",
    "    return (r.status_code,r.text)"
   ]
  },
  {
   "cell_type": "code",
   "execution_count": 11,
   "metadata": {
    "collapsed": false
   },
   "outputs": [],
   "source": [
    "def parse_page(html):\n",
    "    \"\"\"\n",
    "    Parse the reviews on a single page of a restaurant.\n",
    "    \n",
    "    Args:\n",
    "        html (string): String of HTML corresponding to a Yelp restaurant\n",
    "\n",
    "    Returns:\n",
    "        tuple(list, string): a tuple of two elements\n",
    "            first element: list of dictionaries corresponding to the extracted review information\n",
    "            second element: URL for the next page of reviews (or None if it is the last page)\n",
    "    \"\"\"\n",
    "    \n",
    "    soup = BeautifulSoup(html, 'html.parser')\n",
    "    reviews_list = []\n",
    "    reviews = soup.find_all(itemprop=\"review\")\n",
    "    for review in reviews:\n",
    "        review_dict= {\n",
    "            #'review_id': review['data-review-id'],\n",
    "            #'user_id': review['data-signup-object'].split(\"user_id:\")[1],\n",
    "            'rating': float(review.find(itemprop=\"ratingValue\")['content']),\n",
    "            'date': review.find(itemprop=\"datePublished\")['content'],\n",
    "            'text': review.find(itemprop=\"description\").get_text().strip()\n",
    "        }\n",
    "        reviews_list.append(review_dict)\n",
    "\n",
    "    url = soup.find(rel=\"next\")\n",
    "    url = None if url is None else url['href']\n",
    "\n",
    "    parsed_object = (reviews_list,url)\n",
    "    return parsed_object"
   ]
  },
  {
   "cell_type": "markdown",
   "metadata": {},
   "source": [
    "##  Extract reviews of a restaurant"
   ]
  },
  {
   "cell_type": "markdown",
   "metadata": {},
   "source": [
    "We first define a function to extract reviews for a single restaurant as shown below."
   ]
  },
  {
   "cell_type": "code",
   "execution_count": 12,
   "metadata": {
    "collapsed": true
   },
   "outputs": [],
   "source": [
    "def extract_reviews(url):\n",
    "    \"\"\"\n",
    "    Retrieve ALL of the reviews for a single restaurant on Yelp.\n",
    "\n",
    "    Parameters:\n",
    "        url (string): Yelp URL corresponding to the restaurant of interest.\n",
    "\n",
    "    Returns:\n",
    "        reviews (list): list of dictionaries containing extracted review information\n",
    "    \"\"\"\n",
    "    reviews_list = []\n",
    "    while (url is not None):\n",
    "        yelp_page = retrieve_html(url)\n",
    "        reviews, url = parse_page(yelp_page[1])\n",
    "        reviews_list.extend(reviews)\n",
    "        time.sleep(0.05)\n",
    "    return reviews_list"
   ]
  },
  {
   "cell_type": "code",
   "execution_count": 56,
   "metadata": {
    "collapsed": true
   },
   "outputs": [],
   "source": [
    "def extract_reviews_categories(df, categories_list):\n",
    "    \"\"\"\n",
    "    Retrieves reviews for all the restaurants in the given categories list. \n",
    "    Parameters : \n",
    "        df(dataframe) : containing reviews for all the restaurants\n",
    "        categories_list (list) : list of required categories\n",
    "    \n",
    "    Returns (dataframe): consisting of reviews of restaurants belonging to the above categories\n",
    "    \"\"\"\n",
    "    restaurants_filtered = list(set([(row['Res_id'], row['Url']) \n",
    "                                     for ind,row in df.iterrows() if row['Categories'] in categories_list]))\n",
    "    \n",
    "    # Extracting reviews for each restaurant and storing them in a dictionary\n",
    "    reviews = { rest[0] : extract_reviews(rest[1]) for rest in restaurants_filtered}\n",
    "    \n",
    "    # Creating a dataframe containing the reviews for all the above restaurants\n",
    "    rest_id = []\n",
    "    reviews_text = []\n",
    "    dates = []\n",
    "    ratings = []\n",
    "    for key,val in reviews.iteritems():\n",
    "        rest_id += [key]*len(val)\n",
    "        reviews_text += [ i['text'] for i in val]\n",
    "        dates += [i['date'] for i in val]\n",
    "        ratings += [i['rating'] for i in val]\n",
    "    temp = { \"rest_id\" : rest_id, \"reviews_text\" : reviews_text , \"dates\" : dates , \"ratings\" : ratings }\n",
    "    output_df = pd.DataFrame(data = temp)\n",
    "    return output_df    "
   ]
  },
  {
   "cell_type": "markdown",
   "metadata": {},
   "source": [
    "### Extract reviews of restaurant for the top three categories\n",
    "\n",
    "We now obtain the data(reviews) per category of restaurants to train a Latent Dirchlet Allocation(LDA) Model in order to obtain the predominant topics in a given category of restaurants as shown below."
   ]
  },
  {
   "cell_type": "code",
   "execution_count": 57,
   "metadata": {
    "collapsed": false
   },
   "outputs": [],
   "source": [
    "# Extracting all restaurant reviews for top 3 categories\n",
    "cat_pizza = extract_reviews_categories(melted_total, ['Pizza'])\n",
    "cat_Sandwich = extract_reviews_categories(melted_total, ['Sandwiches'])\n",
    "cat_American = extract_reviews_categories(melted_total, ['American (Traditional)'])"
   ]
  },
  {
   "cell_type": "code",
   "execution_count": null,
   "metadata": {
    "collapsed": true
   },
   "outputs": [],
   "source": [
    "#Saving all the reviews in csv files so as to not run it everytime  \n",
    "#cat_pizza.to_csv('pizza.csv',index=False , encoding='utf-8')\n",
    "#cat_Sandwich.to_csv('sandwich.csv',index=False , encoding='utf-8')\n",
    "#cat_American.to_csv('american.csv',index=False , encoding='utf-8')"
   ]
  },
  {
   "cell_type": "code",
   "execution_count": 191,
   "metadata": {
    "collapsed": false
   },
   "outputs": [],
   "source": [
    "# get data from csv files for top 3 restaurant categories\n",
    "#cat_pizza = pd.read_csv('pizza.csv', encoding = 'utf-8')\n",
    "#cat_sandwich = pd.read_csv('sandwich.csv', encoding = 'utf-8')\n",
    "#cat_american = pd.read_csv('american.csv', encoding = 'utf-8')"
   ]
  },
  {
   "cell_type": "code",
   "execution_count": 64,
   "metadata": {
    "collapsed": false,
    "scrolled": true
   },
   "outputs": [
    {
     "name": "stdout",
     "output_type": "stream",
     "text": [
      "6850 5872 9128\n"
     ]
    }
   ],
   "source": [
    "# number of reviews \n",
    "print len(cat_pizza) , len(cat_sandwich) , len(cat_american)"
   ]
  },
  {
   "cell_type": "code",
   "execution_count": 192,
   "metadata": {
    "collapsed": false,
    "scrolled": true
   },
   "outputs": [
    {
     "data": {
      "text/html": [
       "<div>\n",
       "<table border=\"1\" class=\"dataframe\">\n",
       "  <thead>\n",
       "    <tr style=\"text-align: right;\">\n",
       "      <th></th>\n",
       "      <th>dates</th>\n",
       "      <th>ratings</th>\n",
       "      <th>rest_id</th>\n",
       "      <th>reviews_text</th>\n",
       "    </tr>\n",
       "  </thead>\n",
       "  <tbody>\n",
       "    <tr>\n",
       "      <th>0</th>\n",
       "      <td>2016-08-03</td>\n",
       "      <td>5.0</td>\n",
       "      <td>paisanos-pittsburgh</td>\n",
       "      <td>Been eating here for over 15yrs. Reading peopl...</td>\n",
       "    </tr>\n",
       "    <tr>\n",
       "      <th>1</th>\n",
       "      <td>2016-09-09</td>\n",
       "      <td>1.0</td>\n",
       "      <td>paisanos-pittsburgh</td>\n",
       "      <td>Just moved to the area and really wanted to tr...</td>\n",
       "    </tr>\n",
       "  </tbody>\n",
       "</table>\n",
       "</div>"
      ],
      "text/plain": [
       "        dates  ratings              rest_id  \\\n",
       "0  2016-08-03      5.0  paisanos-pittsburgh   \n",
       "1  2016-09-09      1.0  paisanos-pittsburgh   \n",
       "\n",
       "                                        reviews_text  \n",
       "0  Been eating here for over 15yrs. Reading peopl...  \n",
       "1  Just moved to the area and really wanted to tr...  "
      ]
     },
     "execution_count": 192,
     "metadata": {},
     "output_type": "execute_result"
    }
   ],
   "source": [
    "cat_pizza.head(2)"
   ]
  },
  {
   "cell_type": "markdown",
   "metadata": {},
   "source": [
    "### Data Preprocessing\n",
    "\n",
    "Before training model, we need to preprocess the data for any natural language processing application. Since we are looking at text in the form of reviews we need to clean up the data before using it our analysis. We carry out these three steps as a part of pre-processing :\n",
    "\n",
    "1) Tokenization : Break the text down to words. <br /> \n",
    "2) Removal of Stop Words and Rare Words : Find and remove rare and stop words. <br />\n",
    "3) Lemmatization : Reduced words to their word root. For example; reduce driven, driver, drive to drive.  <br />\n"
   ]
  },
  {
   "cell_type": "code",
   "execution_count": 67,
   "metadata": {
    "collapsed": false
   },
   "outputs": [],
   "source": [
    "def process(text, lemmatizer=nltk.stem.wordnet.WordNetLemmatizer()):\n",
    "    \"\"\" Normalizes case, handles punctuation and removes Stop words \n",
    "    Inputs:\n",
    "        text: str: raw text\n",
    "        lemmatizer: an instance of a class implementing the lemmatize() method\n",
    "                    (the default argument is of type nltk.stem.wordnet.WordNetLemmatizer)\n",
    "    Outputs:\n",
    "        list(str): tokenized text\n",
    "    \"\"\"\n",
    "    # To remove any tags present in the review \n",
    "    soup = BeautifulSoup(text,'html.parser')\n",
    "    text = soup.get_text()\n",
    "    \n",
    "    tspt = text.lower()\n",
    "    tspt = tspt.replace(\"'s\",'')\n",
    "    tspt = tspt.replace(\"'\",'')\n",
    "    for ii in string.punctuation:\n",
    "        tspt = tspt.replace(ii, ' ')\n",
    "    tspt = nltk.word_tokenize(tspt) \n",
    "    \n",
    "    # To remove the stop words \n",
    "    stopwords=nltk.corpus.stopwords.words('english')\n",
    "\n",
    "    wrds = []\n",
    "    for tt in tspt : \n",
    "        if tt not in stopwords:\n",
    "            try :\n",
    "                wrd = lemmatizer.lemmatize(tt)\n",
    "            except :\n",
    "                continue\n",
    "\n",
    "            wrds.append( wrd)\n",
    "    \n",
    "    return wrds"
   ]
  },
  {
   "cell_type": "code",
   "execution_count": 69,
   "metadata": {
    "collapsed": true
   },
   "outputs": [],
   "source": [
    "def tokenize_review(df,field_name):\n",
    "    \"\"\"Tokenizes the review in the dataframe and creates it as a new column\n",
    "    Inputs: \n",
    "        df(dataframe) : reviews dataframe\n",
    "        fied_name(String) : field in the dataframe having the review\n",
    "    Returns : \n",
    "        Dataframe with a new column consisting of tokenized reviews\n",
    "    \n",
    "    \"\"\"\n",
    "    lemm_text =  [process(row[field_name]) for ind, row in df.iterrows()]\n",
    "    df = df.assign(reviews_token = lemm_text)\n",
    "    return df "
   ]
  },
  {
   "cell_type": "code",
   "execution_count": 193,
   "metadata": {
    "collapsed": true
   },
   "outputs": [],
   "source": [
    "cat_pizza = tokenize_review(cat_pizza,'reviews_text' )"
   ]
  },
  {
   "cell_type": "code",
   "execution_count": 71,
   "metadata": {
    "collapsed": false
   },
   "outputs": [
    {
     "data": {
      "text/html": [
       "<div>\n",
       "<table border=\"1\" class=\"dataframe\">\n",
       "  <thead>\n",
       "    <tr style=\"text-align: right;\">\n",
       "      <th></th>\n",
       "      <th>dates</th>\n",
       "      <th>ratings</th>\n",
       "      <th>rest_id</th>\n",
       "      <th>reviews_text</th>\n",
       "      <th>reviews_token</th>\n",
       "    </tr>\n",
       "  </thead>\n",
       "  <tbody>\n",
       "    <tr>\n",
       "      <th>0</th>\n",
       "      <td>2016-08-03</td>\n",
       "      <td>5.0</td>\n",
       "      <td>paisanos-pittsburgh</td>\n",
       "      <td>Been eating here for over 15yrs. Reading peopl...</td>\n",
       "      <td>[eating, 15yrs, reading, people, review, reali...</td>\n",
       "    </tr>\n",
       "    <tr>\n",
       "      <th>1</th>\n",
       "      <td>2016-09-09</td>\n",
       "      <td>1.0</td>\n",
       "      <td>paisanos-pittsburgh</td>\n",
       "      <td>Just moved to the area and really wanted to tr...</td>\n",
       "      <td>[moved, area, really, wanted, try, place, call...</td>\n",
       "    </tr>\n",
       "  </tbody>\n",
       "</table>\n",
       "</div>"
      ],
      "text/plain": [
       "        dates  ratings              rest_id  \\\n",
       "0  2016-08-03      5.0  paisanos-pittsburgh   \n",
       "1  2016-09-09      1.0  paisanos-pittsburgh   \n",
       "\n",
       "                                        reviews_text  \\\n",
       "0  Been eating here for over 15yrs. Reading peopl...   \n",
       "1  Just moved to the area and really wanted to tr...   \n",
       "\n",
       "                                       reviews_token  \n",
       "0  [eating, 15yrs, reading, people, review, reali...  \n",
       "1  [moved, area, really, wanted, try, place, call...  "
      ]
     },
     "execution_count": 71,
     "metadata": {},
     "output_type": "execute_result"
    }
   ],
   "source": [
    "cat_pizza.head(2)"
   ]
  },
  {
   "cell_type": "markdown",
   "metadata": {},
   "source": [
    "After performing tokenization and removing the stop words from the reviews we determine and remove rare words. Rare words are those words whose frequency is equal to 1. To elucidate, these words occur only once among all reviews for all restaurants in a given category. These words are removed from the reviews."
   ]
  },
  {
   "cell_type": "code",
   "execution_count": 74,
   "metadata": {
    "collapsed": true
   },
   "outputs": [],
   "source": [
    "def get_rare_words(processed_reviews,field_name):\n",
    "    \"\"\" use the word count information across all reviews to come up with a feature list\n",
    "    Inputs:\n",
    "        processed_reviews: pd.DataFrame\n",
    "    Outputs:\n",
    "        list(str): list of rare words, sorted alphabetically.\n",
    "    \"\"\"\n",
    "    \n",
    "    out = []\n",
    "    for ii in processed_reviews.iterrows() :\n",
    "        out = out + ii[1][field_name]\n",
    "    \n",
    "    outfi = []\n",
    "    of = Counter(out)\n",
    "    for kk in of.keys() :\n",
    "        if of[kk] == 1:\n",
    "            outfi.append(kk)\n",
    "\n",
    "    outfi = sorted(outfi)\n",
    "    \n",
    "    return outfi\n"
   ]
  },
  {
   "cell_type": "code",
   "execution_count": 256,
   "metadata": {
    "collapsed": true
   },
   "outputs": [],
   "source": [
    "rare_wrds = get_rare_words(cat_pizza, 'reviews_token')"
   ]
  },
  {
   "cell_type": "code",
   "execution_count": 81,
   "metadata": {
    "collapsed": true
   },
   "outputs": [],
   "source": [
    "def remove_rare(text, rare_wrds):\n",
    "    \"\"\"Removes rare words from the review tokens\n",
    "    Inputs:\n",
    "        text(list): tokenized review\n",
    "        rare_wrds (list): rare words  \n",
    "    Outputs:\n",
    "        list of words, without the rare words.\n",
    "    \"\"\"\n",
    "    output = []\n",
    "    for wrd in text:\n",
    "        if wrd not in rare_wrds:\n",
    "            output.append(wrd)\n",
    "    return output"
   ]
  },
  {
   "cell_type": "markdown",
   "metadata": {},
   "source": [
    "We finally obtain the reviews without the rare words."
   ]
  },
  {
   "cell_type": "code",
   "execution_count": 82,
   "metadata": {
    "collapsed": true
   },
   "outputs": [],
   "source": [
    "def reviews_without_rare_words (df, token_field,  rare_words):\n",
    "    \"\"\"To get the tokenized review without the rare words\n",
    "    Inputs: \n",
    "        df(dataframe): Reviews dataframe\n",
    "        token_field (String) : field containing the tokenized reviews\n",
    "        rare_words (list) : List of rarewords \n",
    "    Returns : \n",
    "        Dataframe with other column named 'reviews_without_rare_words' \n",
    "    \"\"\"\n",
    "    remove_rare_wrds = df[token_field].apply( lambda x: remove_rare(x, rare_wrds))\n",
    "    df = df.assign(reviews_without_rare_words = remove_rare_wrds)\n",
    "    return df "
   ]
  },
  {
   "cell_type": "code",
   "execution_count": 195,
   "metadata": {
    "collapsed": false
   },
   "outputs": [],
   "source": [
    "cat_pizza = reviews_without_rare_words(cat_pizza,'reviews_token',rare_wrds)"
   ]
  },
  {
   "cell_type": "code",
   "execution_count": 84,
   "metadata": {
    "collapsed": false,
    "scrolled": true
   },
   "outputs": [
    {
     "data": {
      "text/html": [
       "<div>\n",
       "<table border=\"1\" class=\"dataframe\">\n",
       "  <thead>\n",
       "    <tr style=\"text-align: right;\">\n",
       "      <th></th>\n",
       "      <th>dates</th>\n",
       "      <th>ratings</th>\n",
       "      <th>rest_id</th>\n",
       "      <th>reviews_text</th>\n",
       "      <th>reviews_token</th>\n",
       "      <th>reviews_without_rare_words</th>\n",
       "    </tr>\n",
       "  </thead>\n",
       "  <tbody>\n",
       "    <tr>\n",
       "      <th>0</th>\n",
       "      <td>2016-08-03</td>\n",
       "      <td>5.0</td>\n",
       "      <td>paisanos-pittsburgh</td>\n",
       "      <td>Been eating here for over 15yrs. Reading peopl...</td>\n",
       "      <td>[eating, 15yrs, reading, people, review, reali...</td>\n",
       "      <td>[eating, reading, people, review, realized, or...</td>\n",
       "    </tr>\n",
       "    <tr>\n",
       "      <th>1</th>\n",
       "      <td>2016-09-09</td>\n",
       "      <td>1.0</td>\n",
       "      <td>paisanos-pittsburgh</td>\n",
       "      <td>Just moved to the area and really wanted to tr...</td>\n",
       "      <td>[moved, area, really, wanted, try, place, call...</td>\n",
       "      <td>[moved, area, really, wanted, try, place, call...</td>\n",
       "    </tr>\n",
       "  </tbody>\n",
       "</table>\n",
       "</div>"
      ],
      "text/plain": [
       "        dates  ratings              rest_id  \\\n",
       "0  2016-08-03      5.0  paisanos-pittsburgh   \n",
       "1  2016-09-09      1.0  paisanos-pittsburgh   \n",
       "\n",
       "                                        reviews_text  \\\n",
       "0  Been eating here for over 15yrs. Reading peopl...   \n",
       "1  Just moved to the area and really wanted to tr...   \n",
       "\n",
       "                                       reviews_token  \\\n",
       "0  [eating, 15yrs, reading, people, review, reali...   \n",
       "1  [moved, area, really, wanted, try, place, call...   \n",
       "\n",
       "                          reviews_without_rare_words  \n",
       "0  [eating, reading, people, review, realized, or...  \n",
       "1  [moved, area, really, wanted, try, place, call...  "
      ]
     },
     "execution_count": 84,
     "metadata": {},
     "output_type": "execute_result"
    }
   ],
   "source": [
    "cat_pizza.head(2)"
   ]
  },
  {
   "cell_type": "markdown",
   "metadata": {},
   "source": [
    "### LDA Model\n",
    "\n",
    "LDA is a generative statistical model that allows us to explain a set of observed features, which in our case is the document-term matrix in the form of unobserved groups or topics that capture the underlying similarity in the data[3]. The LDA model assumes that document or reviews in our case are created by topics and the words in the reviews are generated from the topics based on their probability distribution. Given the corpus of data which is the corpus of reviews for application the LDA model reverse engineers the process and determines the topics that are capable of generating these reviews(or documents)."
   ]
  },
  {
   "cell_type": "code",
   "execution_count": 133,
   "metadata": {
    "collapsed": true
   },
   "outputs": [],
   "source": [
    "def create_LDA_model(df, review_field, no_topics, no_passes):\n",
    "    \"\"\"creates LDA model \n",
    "    Inputs:\n",
    "        df (dataframe) : Reviews dataframe\n",
    "        review_field (String) : tokenized reviews column\n",
    "        no_topics (integer) : number of topics for LDA model\n",
    "        no_passes(integer) : number of passes for LDA model\n",
    "    Returns :\n",
    "            tuple (corpusm, gensim.models.ldamodel.LdaModel, Dictionary)  \n",
    "    \"\"\"\n",
    "    text = list(df[review_field])\n",
    "    dictionary = corpora.Dictionary(text)\n",
    "    corpus = [dictionary.doc2bow(txt) for txt in text]\n",
    "    ldamodel = gensim.models.ldamodel.LdaModel(corpus, num_topics=no_topics, id2word = dictionary, passes=no_passes)\n",
    "    return (corpus, ldamodel, dictionary)"
   ]
  },
  {
   "cell_type": "markdown",
   "metadata": {},
   "source": [
    "We split the data into test and train data for each restaurant category in order to train our model. The reviews data is split into 90% train data and 10% test data."
   ]
  },
  {
   "cell_type": "code",
   "execution_count": 116,
   "metadata": {
    "collapsed": true
   },
   "outputs": [],
   "source": [
    "np.random.seed(1)\n",
    "def train_test_split(df, train_size):\n",
    "    \"\"\"Splits the dataframe to train and test according to the given size \n",
    "    Inputs: \n",
    "        df(dataframe) : Reviews dataframe\n",
    "        train_size(float) : ratio of train size\n",
    "    Returns: \n",
    "        tuple(train,test) dataframes\n",
    "    \"\"\"\n",
    "    random_perm = np.random.permutation(len(df))\n",
    "    train = df.iloc[random_perm[:train_size*len(df)]]\n",
    "    test = df.iloc[random_perm[train_size*len(df):]]\n",
    "    return (train,test)"
   ]
  },
  {
   "cell_type": "code",
   "execution_count": 140,
   "metadata": {
    "collapsed": true
   },
   "outputs": [],
   "source": [
    "pizza_train,pizza_test = train_test_split(cat_pizza,0.9)"
   ]
  },
  {
   "cell_type": "markdown",
   "metadata": {},
   "source": [
    "We train our LDA model on the training data set of reviews for the \"pizza category\" of restaurants as shown below by using the *create_LDA_model* function created above."
   ]
  },
  {
   "cell_type": "code",
   "execution_count": 134,
   "metadata": {
    "collapsed": true
   },
   "outputs": [],
   "source": [
    "pizza_corpus, pizza_train_model, pizza_dictionary = create_LDA_model(pizza_train, 'reviews_without_rare_words', 5, 10)"
   ]
  },
  {
   "cell_type": "markdown",
   "metadata": {},
   "source": [
    "First We try to obtain the five predominant topics in the category of pizza restaurants. Notice that the number of topics that can be obtained can be varied by changing the values passed to the *'num_topics'* argument in the model, the same holds true to the number of words that are required to describe a certain topic, as a topic is defined as a distribution of words available in the corpus."
   ]
  },
  {
   "cell_type": "code",
   "execution_count": 135,
   "metadata": {
    "collapsed": false,
    "scrolled": false
   },
   "outputs": [
    {
     "data": {
      "text/plain": [
       "[(0,\n",
       "  u'0.024*\"pizza\" + 0.018*\"place\" + 0.018*\"food\" + 0.015*\"good\" + 0.013*\"time\" + 0.011*\"delivery\" + 0.010*\"order\" + 0.010*\"service\" + 0.010*\"always\" + 0.009*\"great\"'),\n",
       " (1,\n",
       "  u'0.055*\"pizza\" + 0.015*\"good\" + 0.011*\"great\" + 0.011*\"crust\" + 0.010*\"sauce\" + 0.009*\"cheese\" + 0.009*\"place\" + 0.008*\"salad\" + 0.007*\"fresh\" + 0.007*\"also\"'),\n",
       " (2,\n",
       "  u'0.013*\"good\" + 0.012*\"place\" + 0.012*\"great\" + 0.012*\"burger\" + 0.012*\"beer\" + 0.011*\"food\" + 0.009*\"meatball\" + 0.009*\"bar\" + 0.006*\"really\" + 0.006*\"one\"'),\n",
       " (3,\n",
       "  u'0.013*\"pizza\" + 0.012*\"order\" + 0.010*\"food\" + 0.010*\"ordered\" + 0.009*\"time\" + 0.008*\"would\" + 0.008*\"place\" + 0.007*\"like\" + 0.007*\"one\" + 0.007*\"minute\"'),\n",
       " (4,\n",
       "  u'0.073*\"pizza\" + 0.016*\"slice\" + 0.015*\"cheese\" + 0.015*\"place\" + 0.015*\"best\" + 0.013*\"pittsburgh\" + 0.012*\"good\" + 0.011*\"like\" + 0.010*\"pie\" + 0.009*\"one\"')]"
      ]
     },
     "execution_count": 135,
     "metadata": {},
     "output_type": "execute_result"
    }
   ],
   "source": [
    "pizza_train_model.print_topics(num_topics = 5 ,num_words = 10)"
   ]
  },
  {
   "cell_type": "markdown",
   "metadata": {},
   "source": [
    "It looks like the words are repeating in many topics. So after playing with the parameters for number of topics and passes, we found that 10 and 40 for number of topics and passes worked the best "
   ]
  },
  {
   "cell_type": "code",
   "execution_count": 141,
   "metadata": {
    "collapsed": false
   },
   "outputs": [],
   "source": [
    "pizza_corpus, pizza_train_model_final, pizza_dictionary = create_LDA_model(pizza_train, 'reviews_without_rare_words', 10, 40)"
   ]
  },
  {
   "cell_type": "code",
   "execution_count": 313,
   "metadata": {
    "collapsed": false,
    "scrolled": false
   },
   "outputs": [
    {
     "data": {
      "text/plain": [
       "[(0,\n",
       "  u'0.056*\"pizza\" + 0.017*\"cheese\" + 0.015*\"crust\" + 0.013*\"sauce\" + 0.013*\"slice\" + 0.010*\"like\" + 0.008*\"good\" + 0.008*\"one\" + 0.007*\"topping\" + 0.007*\"pie\"'),\n",
       " (1,\n",
       "  u'0.024*\"place\" + 0.015*\"like\" + 0.013*\"good\" + 0.012*\"food\" + 0.012*\"go\" + 0.012*\"get\" + 0.011*\"dont\" + 0.009*\"im\" + 0.009*\"really\" + 0.007*\"pretty\"'),\n",
       " (2,\n",
       "  u'0.023*\"meatball\" + 0.012*\"sauce\" + 0.011*\"restaurant\" + 0.010*\"good\" + 0.010*\"pasta\" + 0.009*\"dish\" + 0.009*\"food\" + 0.008*\"salad\" + 0.008*\"beef\" + 0.008*\"like\"'),\n",
       " (3,\n",
       "  u'0.049*\"pizza\" + 0.025*\"good\" + 0.022*\"great\" + 0.014*\"place\" + 0.013*\"salad\" + 0.012*\"delicious\" + 0.012*\"also\" + 0.010*\"fresh\" + 0.009*\"food\" + 0.009*\"chicken\"'),\n",
       " (4,\n",
       "  u'0.036*\"michael\" + 0.019*\"dumpling\" + 0.014*\"family\" + 0.011*\"com\" + 0.010*\"sister\" + 0.009*\"twisties\" + 0.009*\"authentic\" + 0.009*\"uzbek\" + 0.009*\"http\" + 0.009*\"buffet\"'),\n",
       " (5,\n",
       "  u'0.042*\"burger\" + 0.040*\"beer\" + 0.027*\"fry\" + 0.020*\"great\" + 0.018*\"bar\" + 0.017*\"selection\" + 0.014*\"good\" + 0.012*\"place\" + 0.010*\"bacon\" + 0.010*\"dog\"'),\n",
       " (6,\n",
       "  u'0.020*\"table\" + 0.019*\"food\" + 0.016*\"u\" + 0.013*\"service\" + 0.013*\"time\" + 0.013*\"great\" + 0.012*\"wait\" + 0.012*\"drink\" + 0.011*\"bar\" + 0.010*\"restaurant\"'),\n",
       " (7,\n",
       "  u'0.114*\"pizza\" + 0.036*\"best\" + 0.027*\"place\" + 0.023*\"pittsburgh\" + 0.019*\"great\" + 0.019*\"ive\" + 0.016*\"good\" + 0.013*\"always\" + 0.012*\"love\" + 0.010*\"ever\"'),\n",
       " (8,\n",
       "  u'0.025*\"vegan\" + 0.020*\"seitan\" + 0.013*\"wing\" + 0.010*\"dont\" + 0.008*\"know\" + 0.008*\"ice\" + 0.008*\"cream\" + 0.008*\"pittsburgh\" + 0.007*\"vegetarian\" + 0.007*\"like\"'),\n",
       " (9,\n",
       "  u'0.029*\"pizza\" + 0.028*\"order\" + 0.019*\"ordered\" + 0.015*\"time\" + 0.013*\"delivery\" + 0.012*\"minute\" + 0.011*\"food\" + 0.009*\"would\" + 0.008*\"called\" + 0.008*\"said\"')]"
      ]
     },
     "execution_count": 313,
     "metadata": {},
     "output_type": "execute_result"
    }
   ],
   "source": [
    "pizza_train_model_final.print_topics(num_topics = 10 ,num_words = 10)"
   ]
  },
  {
   "cell_type": "markdown",
   "metadata": {},
   "source": [
    "Now let us try to name a few topics by looking at their word distributions <br />\n",
    "1) topic 0 mostly describes pizza, <br />\n",
    "2) topic 1 describes the ambience of the restaurant.<br />\n",
    "3) topic 6 describes the service in a restaurant.<br />\n",
    "4) topic 9 describes the delivery service.<br />\n",
    "\n",
    "We now test our model on reviews from the test data for the \"pizza\" restaurant category. We obtain the topic distribution, that is how likely we are to observe set of ten topics in a given review. We are able to obtain this result by running the code below.\n"
   ]
  },
  {
   "cell_type": "code",
   "execution_count": 144,
   "metadata": {
    "collapsed": true
   },
   "outputs": [],
   "source": [
    "def get_topic_distribution(ldamodel, dictionary, tokenized_text):\n",
    "    \"\"\"\n",
    "    Returns topic distribution for the given tokenized review\n",
    "    \"\"\"\n",
    "    bag_of_words = dictionary.doc2bow(tokenized_text)\n",
    "    topic_dist = ldamodel[bag_of_words]\n",
    "    return topic_dist"
   ]
  },
  {
   "cell_type": "code",
   "execution_count": 310,
   "metadata": {
    "collapsed": false,
    "scrolled": true
   },
   "outputs": [
    {
     "data": {
      "text/plain": [
       "u'Just moved to the area and really wanted to try this place. I called and the woman that answered the phone gave me an immediate attitude. I hung up because I refuse to service a place with poor customer service skills.'"
      ]
     },
     "execution_count": 310,
     "metadata": {},
     "output_type": "execute_result"
    }
   ],
   "source": [
    "pizza_test.iloc[1]['reviews_text']"
   ]
  },
  {
   "cell_type": "code",
   "execution_count": 314,
   "metadata": {
    "collapsed": false,
    "scrolled": true
   },
   "outputs": [
    {
     "data": {
      "text/plain": [
       "[(5, 0.069258458182854171),\n",
       " (7, 0.1668146955046739),\n",
       " (8, 0.13072307128926045),\n",
       " (9, 0.60592538693086095)]"
      ]
     },
     "execution_count": 314,
     "metadata": {},
     "output_type": "execute_result"
    }
   ],
   "source": [
    "get_topic_distribution(pizza_train_model_final, pizza_dictionary, pizza_test.iloc[0]['reviews_without_rare_words'])"
   ]
  },
  {
   "cell_type": "markdown",
   "metadata": {},
   "source": [
    "We can See above that the model was correctly able to predict the topic for the above review that it is 60% probable to come from the Delivery service"
   ]
  },
  {
   "cell_type": "markdown",
   "metadata": {},
   "source": [
    "Now, lets try to get the average rating per topic for all the restaurants so as to get a clear idea on where the restaurant is performing good and bad."
   ]
  },
  {
   "cell_type": "code",
   "execution_count": 257,
   "metadata": {
    "collapsed": true
   },
   "outputs": [],
   "source": [
    "def topic_ratings_all(dictionary,ldamodel, df, review_field, no_topics ):\n",
    "\n",
    "    df = df.copy()\n",
    "    text = list(df[review_field])\n",
    "    corpus = [dictionary.doc2bow(txt) for txt in text]\n",
    "\n",
    "    topic_ratings = [ldamodel[i] for i in corpus]\n",
    "    names = ['Topic '+ str(i) for i in range(no_topics)]\n",
    "    for i in range(len(names)):\n",
    "        df[names[i]] =  [np.nan]*len(df)\n",
    "    for i , j in enumerate(df.index):\n",
    "        rating = df.ix[j]['ratings']\n",
    "        for k in topic_ratings[i]:\n",
    "            df.set_value( j, 'Topic ' + str(k[0]), rating )\n",
    "    df_topic_ratings = df.groupby('rest_id').mean()[names]\n",
    "    df_topic_counts = df.groupby('rest_id').count()[names]\n",
    "    return df_topic_ratings , df_topic_counts"
   ]
  },
  {
   "cell_type": "code",
   "execution_count": 155,
   "metadata": {
    "collapsed": false
   },
   "outputs": [],
   "source": [
    "pizza_ratings, pizza_counts = topic_ratings_all(pizza_dictionary, pizza_train_model_final, cat_pizza, 'reviews_without_rare_words', 10)"
   ]
  },
  {
   "cell_type": "markdown",
   "metadata": {},
   "source": [
    "We obtain the average rating per restaurant for each topic as shown below."
   ]
  },
  {
   "cell_type": "code",
   "execution_count": 156,
   "metadata": {
    "collapsed": false,
    "scrolled": true
   },
   "outputs": [
    {
     "data": {
      "text/html": [
       "<div>\n",
       "<table border=\"1\" class=\"dataframe\">\n",
       "  <thead>\n",
       "    <tr style=\"text-align: right;\">\n",
       "      <th></th>\n",
       "      <th>Topic 0</th>\n",
       "      <th>Topic 1</th>\n",
       "      <th>Topic 2</th>\n",
       "      <th>Topic 3</th>\n",
       "      <th>Topic 4</th>\n",
       "      <th>Topic 5</th>\n",
       "      <th>Topic 6</th>\n",
       "      <th>Topic 7</th>\n",
       "      <th>Topic 8</th>\n",
       "      <th>Topic 9</th>\n",
       "    </tr>\n",
       "    <tr>\n",
       "      <th>rest_id</th>\n",
       "      <th></th>\n",
       "      <th></th>\n",
       "      <th></th>\n",
       "      <th></th>\n",
       "      <th></th>\n",
       "      <th></th>\n",
       "      <th></th>\n",
       "      <th></th>\n",
       "      <th></th>\n",
       "      <th></th>\n",
       "    </tr>\n",
       "  </thead>\n",
       "  <tbody>\n",
       "    <tr>\n",
       "      <th>aiellos-pizza-pittsburgh</th>\n",
       "      <td>3.960630</td>\n",
       "      <td>3.871429</td>\n",
       "      <td>3.917808</td>\n",
       "      <td>3.762500</td>\n",
       "      <td>3.956522</td>\n",
       "      <td>3.831461</td>\n",
       "      <td>3.672727</td>\n",
       "      <td>4.029851</td>\n",
       "      <td>3.966667</td>\n",
       "      <td>3.866667</td>\n",
       "    </tr>\n",
       "    <tr>\n",
       "      <th>alexs-corner-pizza-shop-pittsburgh</th>\n",
       "      <td>4.125000</td>\n",
       "      <td>4.200000</td>\n",
       "      <td>3.200000</td>\n",
       "      <td>3.500000</td>\n",
       "      <td>3.500000</td>\n",
       "      <td>3.333333</td>\n",
       "      <td>4.333333</td>\n",
       "      <td>3.000000</td>\n",
       "      <td>4.500000</td>\n",
       "      <td>3.750000</td>\n",
       "    </tr>\n",
       "    <tr>\n",
       "      <th>amilis-pizzeria-pittsburgh-2</th>\n",
       "      <td>4.000000</td>\n",
       "      <td>NaN</td>\n",
       "      <td>4.000000</td>\n",
       "      <td>4.000000</td>\n",
       "      <td>NaN</td>\n",
       "      <td>4.000000</td>\n",
       "      <td>4.000000</td>\n",
       "      <td>NaN</td>\n",
       "      <td>NaN</td>\n",
       "      <td>4.000000</td>\n",
       "    </tr>\n",
       "    <tr>\n",
       "      <th>amos-pizza-pittsburgh</th>\n",
       "      <td>1.000000</td>\n",
       "      <td>1.000000</td>\n",
       "      <td>NaN</td>\n",
       "      <td>1.000000</td>\n",
       "      <td>NaN</td>\n",
       "      <td>1.000000</td>\n",
       "      <td>1.000000</td>\n",
       "      <td>NaN</td>\n",
       "      <td>1.000000</td>\n",
       "      <td>1.000000</td>\n",
       "    </tr>\n",
       "    <tr>\n",
       "      <th>angelos-pizzeria-pittsburgh</th>\n",
       "      <td>4.027027</td>\n",
       "      <td>3.518519</td>\n",
       "      <td>4.250000</td>\n",
       "      <td>3.433333</td>\n",
       "      <td>3.000000</td>\n",
       "      <td>3.775000</td>\n",
       "      <td>3.687500</td>\n",
       "      <td>3.562500</td>\n",
       "      <td>4.333333</td>\n",
       "      <td>3.764706</td>\n",
       "    </tr>\n",
       "  </tbody>\n",
       "</table>\n",
       "</div>"
      ],
      "text/plain": [
       "                                     Topic 0   Topic 1   Topic 2   Topic 3  \\\n",
       "rest_id                                                                      \n",
       "aiellos-pizza-pittsburgh            3.960630  3.871429  3.917808  3.762500   \n",
       "alexs-corner-pizza-shop-pittsburgh  4.125000  4.200000  3.200000  3.500000   \n",
       "amilis-pizzeria-pittsburgh-2        4.000000       NaN  4.000000  4.000000   \n",
       "amos-pizza-pittsburgh               1.000000  1.000000       NaN  1.000000   \n",
       "angelos-pizzeria-pittsburgh         4.027027  3.518519  4.250000  3.433333   \n",
       "\n",
       "                                     Topic 4   Topic 5   Topic 6   Topic 7  \\\n",
       "rest_id                                                                      \n",
       "aiellos-pizza-pittsburgh            3.956522  3.831461  3.672727  4.029851   \n",
       "alexs-corner-pizza-shop-pittsburgh  3.500000  3.333333  4.333333  3.000000   \n",
       "amilis-pizzeria-pittsburgh-2             NaN  4.000000  4.000000       NaN   \n",
       "amos-pizza-pittsburgh                    NaN  1.000000  1.000000       NaN   \n",
       "angelos-pizzeria-pittsburgh         3.000000  3.775000  3.687500  3.562500   \n",
       "\n",
       "                                     Topic 8   Topic 9  \n",
       "rest_id                                                 \n",
       "aiellos-pizza-pittsburgh            3.966667  3.866667  \n",
       "alexs-corner-pizza-shop-pittsburgh  4.500000  3.750000  \n",
       "amilis-pizzeria-pittsburgh-2             NaN  4.000000  \n",
       "amos-pizza-pittsburgh               1.000000  1.000000  \n",
       "angelos-pizzeria-pittsburgh         4.333333  3.764706  "
      ]
     },
     "execution_count": 156,
     "metadata": {},
     "output_type": "execute_result"
    }
   ],
   "source": [
    "pizza_ratings.head()"
   ]
  },
  {
   "cell_type": "markdown",
   "metadata": {},
   "source": [
    "We also obtain the review counts per restaurant for each topic as shown below."
   ]
  },
  {
   "cell_type": "code",
   "execution_count": 157,
   "metadata": {
    "collapsed": false
   },
   "outputs": [
    {
     "data": {
      "text/html": [
       "<div>\n",
       "<table border=\"1\" class=\"dataframe\">\n",
       "  <thead>\n",
       "    <tr style=\"text-align: right;\">\n",
       "      <th></th>\n",
       "      <th>Topic 0</th>\n",
       "      <th>Topic 1</th>\n",
       "      <th>Topic 2</th>\n",
       "      <th>Topic 3</th>\n",
       "      <th>Topic 4</th>\n",
       "      <th>Topic 5</th>\n",
       "      <th>Topic 6</th>\n",
       "      <th>Topic 7</th>\n",
       "      <th>Topic 8</th>\n",
       "      <th>Topic 9</th>\n",
       "    </tr>\n",
       "    <tr>\n",
       "      <th>rest_id</th>\n",
       "      <th></th>\n",
       "      <th></th>\n",
       "      <th></th>\n",
       "      <th></th>\n",
       "      <th></th>\n",
       "      <th></th>\n",
       "      <th></th>\n",
       "      <th></th>\n",
       "      <th></th>\n",
       "      <th></th>\n",
       "    </tr>\n",
       "  </thead>\n",
       "  <tbody>\n",
       "    <tr>\n",
       "      <th>aiellos-pizza-pittsburgh</th>\n",
       "      <td>127</td>\n",
       "      <td>140</td>\n",
       "      <td>73</td>\n",
       "      <td>80</td>\n",
       "      <td>46</td>\n",
       "      <td>89</td>\n",
       "      <td>55</td>\n",
       "      <td>67</td>\n",
       "      <td>30</td>\n",
       "      <td>45</td>\n",
       "    </tr>\n",
       "    <tr>\n",
       "      <th>alexs-corner-pizza-shop-pittsburgh</th>\n",
       "      <td>8</td>\n",
       "      <td>5</td>\n",
       "      <td>5</td>\n",
       "      <td>4</td>\n",
       "      <td>4</td>\n",
       "      <td>3</td>\n",
       "      <td>3</td>\n",
       "      <td>2</td>\n",
       "      <td>2</td>\n",
       "      <td>4</td>\n",
       "    </tr>\n",
       "    <tr>\n",
       "      <th>amilis-pizzeria-pittsburgh-2</th>\n",
       "      <td>1</td>\n",
       "      <td>0</td>\n",
       "      <td>1</td>\n",
       "      <td>1</td>\n",
       "      <td>0</td>\n",
       "      <td>1</td>\n",
       "      <td>1</td>\n",
       "      <td>0</td>\n",
       "      <td>0</td>\n",
       "      <td>1</td>\n",
       "    </tr>\n",
       "    <tr>\n",
       "      <th>amos-pizza-pittsburgh</th>\n",
       "      <td>1</td>\n",
       "      <td>2</td>\n",
       "      <td>0</td>\n",
       "      <td>2</td>\n",
       "      <td>0</td>\n",
       "      <td>1</td>\n",
       "      <td>1</td>\n",
       "      <td>0</td>\n",
       "      <td>1</td>\n",
       "      <td>1</td>\n",
       "    </tr>\n",
       "    <tr>\n",
       "      <th>angelos-pizzeria-pittsburgh</th>\n",
       "      <td>37</td>\n",
       "      <td>27</td>\n",
       "      <td>12</td>\n",
       "      <td>30</td>\n",
       "      <td>8</td>\n",
       "      <td>40</td>\n",
       "      <td>16</td>\n",
       "      <td>16</td>\n",
       "      <td>6</td>\n",
       "      <td>17</td>\n",
       "    </tr>\n",
       "  </tbody>\n",
       "</table>\n",
       "</div>"
      ],
      "text/plain": [
       "                                    Topic 0  Topic 1  Topic 2  Topic 3  \\\n",
       "rest_id                                                                  \n",
       "aiellos-pizza-pittsburgh                127      140       73       80   \n",
       "alexs-corner-pizza-shop-pittsburgh        8        5        5        4   \n",
       "amilis-pizzeria-pittsburgh-2              1        0        1        1   \n",
       "amos-pizza-pittsburgh                     1        2        0        2   \n",
       "angelos-pizzeria-pittsburgh              37       27       12       30   \n",
       "\n",
       "                                    Topic 4  Topic 5  Topic 6  Topic 7  \\\n",
       "rest_id                                                                  \n",
       "aiellos-pizza-pittsburgh                 46       89       55       67   \n",
       "alexs-corner-pizza-shop-pittsburgh        4        3        3        2   \n",
       "amilis-pizzeria-pittsburgh-2              0        1        1        0   \n",
       "amos-pizza-pittsburgh                     0        1        1        0   \n",
       "angelos-pizzeria-pittsburgh               8       40       16       16   \n",
       "\n",
       "                                    Topic 8  Topic 9  \n",
       "rest_id                                               \n",
       "aiellos-pizza-pittsburgh                 30       45  \n",
       "alexs-corner-pizza-shop-pittsburgh        2        4  \n",
       "amilis-pizzeria-pittsburgh-2              0        1  \n",
       "amos-pizza-pittsburgh                     1        1  \n",
       "angelos-pizzeria-pittsburgh               6       17  "
      ]
     },
     "execution_count": 157,
     "metadata": {},
     "output_type": "execute_result"
    }
   ],
   "source": [
    "pizza_counts.head()"
   ]
  },
  {
   "cell_type": "markdown",
   "metadata": {},
   "source": [
    "### Personalized recommendations for restaurants  \n",
    "\n",
    "Let us get the overall average rating per topic so as to get an idea of how well the restaurants perform in each topic with respect other restaurants in the same category as the restaurant in question. For Example, if we have 100 reviews in topic 1 then we take the average rating for all 100 reviews in this topic. We repeat this process for all 10 topics. This gives an insight into the average restaurant performance per topic when considering a single category. We now can provide personalized recommendations for each restaurant in a particular category by comparing its performance(rating) in every topic with the average overall topic rating for the category in consideration.  "
   ]
  },
  {
   "cell_type": "code",
   "execution_count": 185,
   "metadata": {
    "collapsed": true
   },
   "outputs": [],
   "source": [
    "def avg_topic_rating (ratings_df , counts_df):\n",
    "    \"\"\"\n",
    "    Gets the average rating per topic \n",
    "    \"\"\"\n",
    "    ratings_array = np.array(ratings_df)\n",
    "    counts_array = np.array(counts_df)\n",
    "    mult = np.multiply(ratings_array,counts_array)\n",
    "    sum_ratings = np.sum(np.nan_to_num(mult),axis=0)\n",
    "    avg_ratings = sum_ratings / np.sum(counts_array,axis = 0)\n",
    "    avg_ratings_df = pd.DataFrame(avg_ratings.reshape(1, len(avg_ratings)) ,\n",
    "                                  columns= ratings_df.columns, index=['Avg Topic Rating'])\n",
    "    return avg_ratings_df\n"
   ]
  },
  {
   "cell_type": "code",
   "execution_count": 186,
   "metadata": {
    "collapsed": false
   },
   "outputs": [
    {
     "data": {
      "text/html": [
       "<div>\n",
       "<table border=\"1\" class=\"dataframe\">\n",
       "  <thead>\n",
       "    <tr style=\"text-align: right;\">\n",
       "      <th></th>\n",
       "      <th>Topic 0</th>\n",
       "      <th>Topic 1</th>\n",
       "      <th>Topic 2</th>\n",
       "      <th>Topic 3</th>\n",
       "      <th>Topic 4</th>\n",
       "      <th>Topic 5</th>\n",
       "      <th>Topic 6</th>\n",
       "      <th>Topic 7</th>\n",
       "      <th>Topic 8</th>\n",
       "      <th>Topic 9</th>\n",
       "    </tr>\n",
       "  </thead>\n",
       "  <tbody>\n",
       "    <tr>\n",
       "      <th>Avg Topic Rating</th>\n",
       "      <td>3.787451</td>\n",
       "      <td>3.743861</td>\n",
       "      <td>3.835563</td>\n",
       "      <td>3.191959</td>\n",
       "      <td>3.507895</td>\n",
       "      <td>3.739185</td>\n",
       "      <td>3.667791</td>\n",
       "      <td>3.763566</td>\n",
       "      <td>3.877483</td>\n",
       "      <td>3.516428</td>\n",
       "    </tr>\n",
       "  </tbody>\n",
       "</table>\n",
       "</div>"
      ],
      "text/plain": [
       "                   Topic 0   Topic 1   Topic 2   Topic 3   Topic 4   Topic 5  \\\n",
       "Avg Topic Rating  3.787451  3.743861  3.835563  3.191959  3.507895  3.739185   \n",
       "\n",
       "                   Topic 6   Topic 7   Topic 8   Topic 9  \n",
       "Avg Topic Rating  3.667791  3.763566  3.877483  3.516428  "
      ]
     },
     "execution_count": 186,
     "metadata": {},
     "output_type": "execute_result"
    }
   ],
   "source": [
    "avg_topic_rating(pizza_ratings,pizza_counts)"
   ]
  },
  {
   "cell_type": "markdown",
   "metadata": {},
   "source": [
    "## Using Sentiment analysis to extract negative sentences from reviews\n",
    "\n",
    "The above analysis is performed on all reviews including both good and bad reviews. But,we hope to improve our recommendations by only focusing on the negative reviews. We extracted the negative reviews, i.e reviews that have a rating of four or below. Through further investigation , we found that these negative reviews also had some positive sentiments. Therefore, in order to improve the performance of the model, we removed the positive sentences from the reviews using the textblob[2] sentiment analyzer and only retained the negative sentences in the reviews."
   ]
  },
  {
   "cell_type": "code",
   "execution_count": 206,
   "metadata": {
    "collapsed": true
   },
   "outputs": [],
   "source": [
    "pizza_poor_reviews = cat_pizza[cat_pizza['ratings'] <= 4]"
   ]
  },
  {
   "cell_type": "code",
   "execution_count": 207,
   "metadata": {
    "collapsed": false
   },
   "outputs": [
    {
     "data": {
      "text/html": [
       "<div>\n",
       "<table border=\"1\" class=\"dataframe\">\n",
       "  <thead>\n",
       "    <tr style=\"text-align: right;\">\n",
       "      <th></th>\n",
       "      <th>dates</th>\n",
       "      <th>ratings</th>\n",
       "      <th>rest_id</th>\n",
       "      <th>reviews_text</th>\n",
       "      <th>reviews_token</th>\n",
       "      <th>reviews_without_rare_words</th>\n",
       "    </tr>\n",
       "  </thead>\n",
       "  <tbody>\n",
       "    <tr>\n",
       "      <th>1</th>\n",
       "      <td>2016-09-09</td>\n",
       "      <td>1.0</td>\n",
       "      <td>paisanos-pittsburgh</td>\n",
       "      <td>Just moved to the area and really wanted to tr...</td>\n",
       "      <td>[moved, area, really, wanted, try, place, call...</td>\n",
       "      <td>[moved, area, really, wanted, try, place, call...</td>\n",
       "    </tr>\n",
       "    <tr>\n",
       "      <th>2</th>\n",
       "      <td>2016-05-23</td>\n",
       "      <td>3.0</td>\n",
       "      <td>paisanos-pittsburgh</td>\n",
       "      <td>We have ordered from here several times and th...</td>\n",
       "      <td>[ordered, several, time, food, consistently, d...</td>\n",
       "      <td>[ordered, several, time, food, consistently, d...</td>\n",
       "    </tr>\n",
       "  </tbody>\n",
       "</table>\n",
       "</div>"
      ],
      "text/plain": [
       "        dates  ratings              rest_id  \\\n",
       "1  2016-09-09      1.0  paisanos-pittsburgh   \n",
       "2  2016-05-23      3.0  paisanos-pittsburgh   \n",
       "\n",
       "                                        reviews_text  \\\n",
       "1  Just moved to the area and really wanted to tr...   \n",
       "2  We have ordered from here several times and th...   \n",
       "\n",
       "                                       reviews_token  \\\n",
       "1  [moved, area, really, wanted, try, place, call...   \n",
       "2  [ordered, several, time, food, consistently, d...   \n",
       "\n",
       "                          reviews_without_rare_words  \n",
       "1  [moved, area, really, wanted, try, place, call...  \n",
       "2  [ordered, several, time, food, consistently, d...  "
      ]
     },
     "execution_count": 207,
     "metadata": {},
     "output_type": "execute_result"
    }
   ],
   "source": [
    "pizza_poor_reviews.head(2)"
   ]
  },
  {
   "cell_type": "markdown",
   "metadata": {},
   "source": [
    "The polarity score representing the sentiments of a sentence ranges from  -1 to 1 , where a score below zero is considered as a negative sentiment and we have only retained these sentences in the review."
   ]
  },
  {
   "cell_type": "code",
   "execution_count": 208,
   "metadata": {
    "collapsed": true
   },
   "outputs": [],
   "source": [
    "reviews_bad = []\n",
    "for ind, rev in pizza_poor_reviews.iterrows() :\n",
    "    rev = rev['reviews_text']\n",
    "    blob = TextBlob(rev)\n",
    "    bad_part = ''\n",
    "    for sentence in blob.sentences:\n",
    "        score = sentence.sentiment.polarity\n",
    "        if score <= 0 :\n",
    "            bad_part += ' '+ sentence.string\n",
    "    reviews_bad.append(bad_part)"
   ]
  },
  {
   "cell_type": "code",
   "execution_count": 209,
   "metadata": {
    "collapsed": false
   },
   "outputs": [],
   "source": [
    "pizza_poor_reviews = pizza_poor_reviews.assign(bad_reviews = reviews_bad )\n",
    "lemm_bad_text = [ process( ii['bad_reviews']) for ind, ii in pizza_poor_reviews.iterrows() ]\n",
    "pizza_poor_reviews = pizza_poor_reviews.assign(bad_reviews_token =lemm_bad_text)\n",
    "pizza_poor_reviews = pizza_poor_reviews[pizza_poor_reviews['bad_reviews'] != '' ]\n",
    "pizza_poor_reviews.dropna( how = 'any' , inplace = True)\n"
   ]
  },
  {
   "cell_type": "code",
   "execution_count": 210,
   "metadata": {
    "collapsed": false
   },
   "outputs": [
    {
     "data": {
      "text/html": [
       "<div>\n",
       "<table border=\"1\" class=\"dataframe\">\n",
       "  <thead>\n",
       "    <tr style=\"text-align: right;\">\n",
       "      <th></th>\n",
       "      <th>dates</th>\n",
       "      <th>ratings</th>\n",
       "      <th>rest_id</th>\n",
       "      <th>reviews_text</th>\n",
       "      <th>reviews_token</th>\n",
       "      <th>reviews_without_rare_words</th>\n",
       "      <th>bad_reviews</th>\n",
       "      <th>bad_reviews_token</th>\n",
       "    </tr>\n",
       "  </thead>\n",
       "  <tbody>\n",
       "    <tr>\n",
       "      <th>1</th>\n",
       "      <td>2016-09-09</td>\n",
       "      <td>1.0</td>\n",
       "      <td>paisanos-pittsburgh</td>\n",
       "      <td>Just moved to the area and really wanted to tr...</td>\n",
       "      <td>[moved, area, really, wanted, try, place, call...</td>\n",
       "      <td>[moved, area, really, wanted, try, place, call...</td>\n",
       "      <td>I called and the woman that answered the phon...</td>\n",
       "      <td>[called, woman, answered, phone, gave, immedia...</td>\n",
       "    </tr>\n",
       "    <tr>\n",
       "      <th>2</th>\n",
       "      <td>2016-05-23</td>\n",
       "      <td>3.0</td>\n",
       "      <td>paisanos-pittsburgh</td>\n",
       "      <td>We have ordered from here several times and th...</td>\n",
       "      <td>[ordered, several, time, food, consistently, d...</td>\n",
       "      <td>[ordered, several, time, food, consistently, d...</td>\n",
       "      <td>That was a mistake. The place is filthy, real...</td>\n",
       "      <td>[mistake, place, filthy, really, gross, wish, ...</td>\n",
       "    </tr>\n",
       "  </tbody>\n",
       "</table>\n",
       "</div>"
      ],
      "text/plain": [
       "        dates  ratings              rest_id  \\\n",
       "1  2016-09-09      1.0  paisanos-pittsburgh   \n",
       "2  2016-05-23      3.0  paisanos-pittsburgh   \n",
       "\n",
       "                                        reviews_text  \\\n",
       "1  Just moved to the area and really wanted to tr...   \n",
       "2  We have ordered from here several times and th...   \n",
       "\n",
       "                                       reviews_token  \\\n",
       "1  [moved, area, really, wanted, try, place, call...   \n",
       "2  [ordered, several, time, food, consistently, d...   \n",
       "\n",
       "                          reviews_without_rare_words  \\\n",
       "1  [moved, area, really, wanted, try, place, call...   \n",
       "2  [ordered, several, time, food, consistently, d...   \n",
       "\n",
       "                                         bad_reviews  \\\n",
       "1   I called and the woman that answered the phon...   \n",
       "2   That was a mistake. The place is filthy, real...   \n",
       "\n",
       "                                   bad_reviews_token  \n",
       "1  [called, woman, answered, phone, gave, immedia...  \n",
       "2  [mistake, place, filthy, really, gross, wish, ...  "
      ]
     },
     "execution_count": 210,
     "metadata": {},
     "output_type": "execute_result"
    }
   ],
   "source": [
    "pizza_poor_reviews.head(2)"
   ]
  },
  {
   "cell_type": "markdown",
   "metadata": {},
   "source": [
    "Now we fit the LDA model on the reviews that retain the sentences that capture the negative sentiments. We ran this model again with the parameters determined above. "
   ]
  },
  {
   "cell_type": "code",
   "execution_count": 211,
   "metadata": {
    "collapsed": true
   },
   "outputs": [],
   "source": [
    "pizza_poor_train,pizza_poor_test = train_test_split(pizza_poor_reviews,0.9)"
   ]
  },
  {
   "cell_type": "code",
   "execution_count": 212,
   "metadata": {
    "collapsed": true
   },
   "outputs": [],
   "source": [
    "pizza_poor_corpus, pizza_poor_train_model, pizza_poor_dictionary = create_LDA_model(pizza_poor_train,\n",
    "                                                                                    'bad_reviews_token', 10, 40)"
   ]
  },
  {
   "cell_type": "markdown",
   "metadata": {},
   "source": [
    "From the topics generated below, we observe that the model generates some topics that could potentially identify issues in performance of the restaurants such as topic 8 which represents service. We could generate different and perhaps better topics by varying the model parameters."
   ]
  },
  {
   "cell_type": "code",
   "execution_count": 214,
   "metadata": {
    "collapsed": false
   },
   "outputs": [
    {
     "data": {
      "text/plain": [
       "[(0,\n",
       "  u'0.073*\"pizza\" + 0.019*\"cheese\" + 0.015*\"slice\" + 0.013*\"crust\" + 0.013*\"sauce\" + 0.012*\"like\" + 0.009*\"pepperoni\" + 0.009*\"topping\" + 0.008*\"place\" + 0.008*\"ordered\"'),\n",
       " (1,\n",
       "  u'0.016*\"one\" + 0.012*\"gelato\" + 0.007*\"alfredo\" + 0.005*\"got\" + 0.005*\"table\" + 0.005*\"little\" + 0.005*\"get\" + 0.005*\"eating\" + 0.005*\"confused\" + 0.004*\"though\"'),\n",
       " (2,\n",
       "  u'0.026*\"chicken\" + 0.017*\"wing\" + 0.015*\"ordered\" + 0.014*\"pizza\" + 0.013*\"ive\" + 0.013*\"buffalo\" + 0.012*\"hoagie\" + 0.011*\"fry\" + 0.011*\"delivery\" + 0.008*\"salad\"'),\n",
       " (3,\n",
       "  u'0.014*\"pizza\" + 0.012*\"ordered\" + 0.010*\"one\" + 0.009*\"burger\" + 0.008*\"like\" + 0.007*\"time\" + 0.007*\"order\" + 0.007*\"food\" + 0.006*\"came\" + 0.006*\"would\"'),\n",
       " (4,\n",
       "  u'0.015*\"cheese\" + 0.014*\"burger\" + 0.010*\"fry\" + 0.010*\"like\" + 0.009*\"place\" + 0.009*\"square\" + 0.008*\"one\" + 0.008*\"wing\" + 0.007*\"pizza\" + 0.007*\"go\"'),\n",
       " (5,\n",
       "  u'0.016*\"pizza\" + 0.015*\"time\" + 0.014*\"minute\" + 0.014*\"back\" + 0.010*\"wait\" + 0.010*\"go\" + 0.009*\"ordered\" + 0.009*\"would\" + 0.009*\"food\" + 0.008*\"night\"'),\n",
       " (6,\n",
       "  u'0.007*\"chicago\" + 0.005*\"b\" + 0.005*\"com\" + 0.004*\"egg\" + 0.004*\"hardly\" + 0.004*\"toast\" + 0.004*\"v\" + 0.004*\"r\" + 0.004*\"kay\" + 0.004*\"pie\"'),\n",
       " (7,\n",
       "  u'0.012*\"meatball\" + 0.010*\"like\" + 0.009*\"restaurant\" + 0.009*\"place\" + 0.008*\"food\" + 0.007*\"table\" + 0.007*\"ordered\" + 0.006*\"back\" + 0.006*\"menu\" + 0.006*\"get\"'),\n",
       " (8,\n",
       "  u'0.021*\"order\" + 0.019*\"pizza\" + 0.014*\"place\" + 0.013*\"food\" + 0.012*\"service\" + 0.011*\"dont\" + 0.011*\"time\" + 0.009*\"get\" + 0.008*\"never\" + 0.008*\"go\"'),\n",
       " (9,\n",
       "  u'0.047*\"pizza\" + 0.017*\"place\" + 0.011*\"pie\" + 0.011*\"little\" + 0.011*\"bar\" + 0.010*\"go\" + 0.009*\"chicken\" + 0.009*\"get\" + 0.008*\"oven\" + 0.008*\"like\"')]"
      ]
     },
     "execution_count": 214,
     "metadata": {},
     "output_type": "execute_result"
    }
   ],
   "source": [
    "pizza_poor_train_model.print_topics(num_topics = 10 ,num_words = 10)"
   ]
  },
  {
   "cell_type": "markdown",
   "metadata": {},
   "source": [
    "We run our implementation of the standard LDA model ,i.e **without the exclusion** of the positive sentences in the reviews for the other restaurant categories namely *Sandwich* and *American* and obtain topics for each respectively. The outputs for both cases are generated as follows. We believe the model can be further improved by varying the LDA model parameters and consider as scope for future work in order to improve our current recommendation system."
   ]
  },
  {
   "cell_type": "code",
   "execution_count": 258,
   "metadata": {
    "collapsed": true
   },
   "outputs": [],
   "source": [
    "cat_sandwich = tokenize_review(cat_sandwich,'reviews_text')"
   ]
  },
  {
   "cell_type": "code",
   "execution_count": 216,
   "metadata": {
    "collapsed": true
   },
   "outputs": [],
   "source": [
    "rare_wrds = get_rare_words(cat_sandwich, 'reviews_token')"
   ]
  },
  {
   "cell_type": "code",
   "execution_count": 217,
   "metadata": {
    "collapsed": true
   },
   "outputs": [],
   "source": [
    "cat_sandwich = reviews_without_rare_words(cat_sandwich,'reviews_token',rare_wrds)"
   ]
  },
  {
   "cell_type": "code",
   "execution_count": 218,
   "metadata": {
    "collapsed": true
   },
   "outputs": [],
   "source": [
    "sandwich_train,sandwich_test = train_test_split(cat_sandwich,0.9)"
   ]
  },
  {
   "cell_type": "code",
   "execution_count": 219,
   "metadata": {
    "collapsed": true
   },
   "outputs": [],
   "source": [
    "sandwich_corpus, sandwich_train_model, sandwich_dictionary = create_LDA_model(sandwich_train,\n",
    "                                                                              'reviews_without_rare_words', 10, 40)"
   ]
  },
  {
   "cell_type": "code",
   "execution_count": 220,
   "metadata": {
    "collapsed": false
   },
   "outputs": [
    {
     "data": {
      "text/plain": [
       "[(0,\n",
       "  u'0.018*\"food\" + 0.016*\"salad\" + 0.015*\"good\" + 0.014*\"great\" + 0.013*\"sandwich\" + 0.011*\"lunch\" + 0.011*\"friendly\" + 0.010*\"nice\" + 0.010*\"place\" + 0.010*\"also\"'),\n",
       " (1,\n",
       "  u'0.021*\"deli\" + 0.018*\"pb\" + 0.014*\"fish\" + 0.013*\"j\" + 0.008*\"carson\" + 0.008*\"street\" + 0.007*\"com\" + 0.006*\"roll\" + 0.006*\"http\" + 0.006*\"new\"'),\n",
       " (2,\n",
       "  u'0.028*\"place\" + 0.020*\"great\" + 0.017*\"good\" + 0.016*\"sandwich\" + 0.015*\"food\" + 0.011*\"get\" + 0.010*\"go\" + 0.009*\"one\" + 0.009*\"love\" + 0.009*\"best\"'),\n",
       " (3,\n",
       "  u'0.097*\"burger\" + 0.014*\"wing\" + 0.014*\"sweet\" + 0.011*\"applewood\" + 0.010*\"cooked\" + 0.010*\"nut\" + 0.010*\"onion\" + 0.009*\"potato\" + 0.009*\"grand\" + 0.007*\"filet\"'),\n",
       " (4,\n",
       "  u'0.013*\"pizza\" + 0.010*\"menu\" + 0.010*\"food\" + 0.010*\"ordered\" + 0.010*\"good\" + 0.008*\"salad\" + 0.008*\"came\" + 0.008*\"cheese\" + 0.007*\"also\" + 0.007*\"chicken\"'),\n",
       " (5,\n",
       "  u'0.026*\"sandwich\" + 0.022*\"sub\" + 0.018*\"bread\" + 0.014*\"pretzel\" + 0.013*\"good\" + 0.013*\"subway\" + 0.012*\"hot\" + 0.011*\"beef\" + 0.011*\"get\" + 0.010*\"cheese\"'),\n",
       " (6,\n",
       "  u'0.055*\"sandwich\" + 0.033*\"fry\" + 0.018*\"pittsburgh\" + 0.017*\"primanti\" + 0.013*\"cheese\" + 0.012*\"slaw\" + 0.011*\"bread\" + 0.010*\"good\" + 0.010*\"meat\" + 0.010*\"like\"'),\n",
       " (7,\n",
       "  u'0.012*\"time\" + 0.012*\"food\" + 0.011*\"one\" + 0.011*\"order\" + 0.009*\"get\" + 0.009*\"place\" + 0.008*\"like\" + 0.008*\"dont\" + 0.007*\"go\" + 0.007*\"u\"'),\n",
       " (8,\n",
       "  u'0.038*\"cream\" + 0.035*\"bagel\" + 0.031*\"ice\" + 0.015*\"flavor\" + 0.014*\"coffee\" + 0.012*\"chocolate\" + 0.011*\"breakfast\" + 0.009*\"cone\" + 0.009*\"like\" + 0.008*\"waffle\"'),\n",
       " (9,\n",
       "  u'0.032*\"cake\" + 0.017*\"night\" + 0.013*\"boy\" + 0.012*\"p\" + 0.011*\"late\" + 0.010*\"drunk\" + 0.009*\"sober\" + 0.009*\"incredible\" + 0.008*\"crab\" + 0.007*\"wonder\"')]"
      ]
     },
     "execution_count": 220,
     "metadata": {},
     "output_type": "execute_result"
    }
   ],
   "source": [
    "sandwich_train_model.print_topics(num_topics = 10 ,num_words = 10)"
   ]
  },
  {
   "cell_type": "code",
   "execution_count": 236,
   "metadata": {
    "collapsed": false
   },
   "outputs": [
    {
     "data": {
      "text/plain": [
       "u'The food was absolutely delicious, the service was great, abd the atmosphere was very nice. I would go back in a heartbeat.'"
      ]
     },
     "execution_count": 236,
     "metadata": {},
     "output_type": "execute_result"
    }
   ],
   "source": [
    "sandwich_test.iloc[2]['reviews_text']"
   ]
  },
  {
   "cell_type": "code",
   "execution_count": 237,
   "metadata": {
    "collapsed": false
   },
   "outputs": [
    {
     "data": {
      "text/plain": [
       "[(2, 0.84161410932584524), (9, 0.091708961649253934)]"
      ]
     },
     "execution_count": 237,
     "metadata": {},
     "output_type": "execute_result"
    }
   ],
   "source": [
    "get_topic_distribution(sandwich_train_model, sandwich_dictionary, sandwich_test.iloc[2]['reviews_without_rare_words'])"
   ]
  },
  {
   "cell_type": "code",
   "execution_count": 238,
   "metadata": {
    "collapsed": true
   },
   "outputs": [],
   "source": [
    "sandwich_ratings, sandwich_counts = topic_ratings_all(sandwich_dictionary, sandwich_train_model, cat_sandwich, 'reviews_without_rare_words', 10)"
   ]
  },
  {
   "cell_type": "code",
   "execution_count": 241,
   "metadata": {
    "collapsed": false
   },
   "outputs": [
    {
     "data": {
      "text/html": [
       "<div>\n",
       "<table border=\"1\" class=\"dataframe\">\n",
       "  <thead>\n",
       "    <tr style=\"text-align: right;\">\n",
       "      <th></th>\n",
       "      <th>Topic 0</th>\n",
       "      <th>Topic 1</th>\n",
       "      <th>Topic 2</th>\n",
       "      <th>Topic 3</th>\n",
       "      <th>Topic 4</th>\n",
       "      <th>Topic 5</th>\n",
       "      <th>Topic 6</th>\n",
       "      <th>Topic 7</th>\n",
       "      <th>Topic 8</th>\n",
       "      <th>Topic 9</th>\n",
       "    </tr>\n",
       "    <tr>\n",
       "      <th>rest_id</th>\n",
       "      <th></th>\n",
       "      <th></th>\n",
       "      <th></th>\n",
       "      <th></th>\n",
       "      <th></th>\n",
       "      <th></th>\n",
       "      <th></th>\n",
       "      <th></th>\n",
       "      <th></th>\n",
       "      <th></th>\n",
       "    </tr>\n",
       "  </thead>\n",
       "  <tbody>\n",
       "    <tr>\n",
       "      <th>allegheny-sandwich-shop-pittsburgh-2</th>\n",
       "      <td>NaN</td>\n",
       "      <td>NaN</td>\n",
       "      <td>4.000000</td>\n",
       "      <td>NaN</td>\n",
       "      <td>NaN</td>\n",
       "      <td>NaN</td>\n",
       "      <td>NaN</td>\n",
       "      <td>NaN</td>\n",
       "      <td>4.00</td>\n",
       "      <td>NaN</td>\n",
       "    </tr>\n",
       "    <tr>\n",
       "      <th>allegheny-sandwich-shoppe-pittsburgh</th>\n",
       "      <td>4.5</td>\n",
       "      <td>4.5</td>\n",
       "      <td>4.705882</td>\n",
       "      <td>4.0</td>\n",
       "      <td>4.230769</td>\n",
       "      <td>4.8</td>\n",
       "      <td>3.3</td>\n",
       "      <td>3.846154</td>\n",
       "      <td>4.00</td>\n",
       "      <td>NaN</td>\n",
       "    </tr>\n",
       "    <tr>\n",
       "      <th>american-natural-pittsburgh</th>\n",
       "      <td>4.0</td>\n",
       "      <td>NaN</td>\n",
       "      <td>3.500000</td>\n",
       "      <td>NaN</td>\n",
       "      <td>4.500000</td>\n",
       "      <td>4.0</td>\n",
       "      <td>5.0</td>\n",
       "      <td>3.000000</td>\n",
       "      <td>3.25</td>\n",
       "      <td>5.0</td>\n",
       "    </tr>\n",
       "  </tbody>\n",
       "</table>\n",
       "</div>"
      ],
      "text/plain": [
       "                                      Topic 0  Topic 1   Topic 2  Topic 3  \\\n",
       "rest_id                                                                     \n",
       "allegheny-sandwich-shop-pittsburgh-2      NaN      NaN  4.000000      NaN   \n",
       "allegheny-sandwich-shoppe-pittsburgh      4.5      4.5  4.705882      4.0   \n",
       "american-natural-pittsburgh               4.0      NaN  3.500000      NaN   \n",
       "\n",
       "                                       Topic 4  Topic 5  Topic 6   Topic 7  \\\n",
       "rest_id                                                                      \n",
       "allegheny-sandwich-shop-pittsburgh-2       NaN      NaN      NaN       NaN   \n",
       "allegheny-sandwich-shoppe-pittsburgh  4.230769      4.8      3.3  3.846154   \n",
       "american-natural-pittsburgh           4.500000      4.0      5.0  3.000000   \n",
       "\n",
       "                                      Topic 8  Topic 9  \n",
       "rest_id                                                 \n",
       "allegheny-sandwich-shop-pittsburgh-2     4.00      NaN  \n",
       "allegheny-sandwich-shoppe-pittsburgh     4.00      NaN  \n",
       "american-natural-pittsburgh              3.25      5.0  "
      ]
     },
     "execution_count": 241,
     "metadata": {},
     "output_type": "execute_result"
    }
   ],
   "source": [
    "sandwich_ratings.head(3)"
   ]
  },
  {
   "cell_type": "code",
   "execution_count": 242,
   "metadata": {
    "collapsed": false
   },
   "outputs": [
    {
     "data": {
      "text/html": [
       "<div>\n",
       "<table border=\"1\" class=\"dataframe\">\n",
       "  <thead>\n",
       "    <tr style=\"text-align: right;\">\n",
       "      <th></th>\n",
       "      <th>Topic 0</th>\n",
       "      <th>Topic 1</th>\n",
       "      <th>Topic 2</th>\n",
       "      <th>Topic 3</th>\n",
       "      <th>Topic 4</th>\n",
       "      <th>Topic 5</th>\n",
       "      <th>Topic 6</th>\n",
       "      <th>Topic 7</th>\n",
       "      <th>Topic 8</th>\n",
       "      <th>Topic 9</th>\n",
       "    </tr>\n",
       "    <tr>\n",
       "      <th>rest_id</th>\n",
       "      <th></th>\n",
       "      <th></th>\n",
       "      <th></th>\n",
       "      <th></th>\n",
       "      <th></th>\n",
       "      <th></th>\n",
       "      <th></th>\n",
       "      <th></th>\n",
       "      <th></th>\n",
       "      <th></th>\n",
       "    </tr>\n",
       "  </thead>\n",
       "  <tbody>\n",
       "    <tr>\n",
       "      <th>allegheny-sandwich-shop-pittsburgh-2</th>\n",
       "      <td>0</td>\n",
       "      <td>0</td>\n",
       "      <td>1</td>\n",
       "      <td>0</td>\n",
       "      <td>0</td>\n",
       "      <td>0</td>\n",
       "      <td>0</td>\n",
       "      <td>0</td>\n",
       "      <td>1</td>\n",
       "      <td>0</td>\n",
       "    </tr>\n",
       "    <tr>\n",
       "      <th>allegheny-sandwich-shoppe-pittsburgh</th>\n",
       "      <td>12</td>\n",
       "      <td>2</td>\n",
       "      <td>17</td>\n",
       "      <td>3</td>\n",
       "      <td>13</td>\n",
       "      <td>5</td>\n",
       "      <td>10</td>\n",
       "      <td>13</td>\n",
       "      <td>7</td>\n",
       "      <td>0</td>\n",
       "    </tr>\n",
       "    <tr>\n",
       "      <th>american-natural-pittsburgh</th>\n",
       "      <td>2</td>\n",
       "      <td>0</td>\n",
       "      <td>2</td>\n",
       "      <td>0</td>\n",
       "      <td>2</td>\n",
       "      <td>2</td>\n",
       "      <td>1</td>\n",
       "      <td>3</td>\n",
       "      <td>4</td>\n",
       "      <td>1</td>\n",
       "    </tr>\n",
       "  </tbody>\n",
       "</table>\n",
       "</div>"
      ],
      "text/plain": [
       "                                      Topic 0  Topic 1  Topic 2  Topic 3  \\\n",
       "rest_id                                                                    \n",
       "allegheny-sandwich-shop-pittsburgh-2        0        0        1        0   \n",
       "allegheny-sandwich-shoppe-pittsburgh       12        2       17        3   \n",
       "american-natural-pittsburgh                 2        0        2        0   \n",
       "\n",
       "                                      Topic 4  Topic 5  Topic 6  Topic 7  \\\n",
       "rest_id                                                                    \n",
       "allegheny-sandwich-shop-pittsburgh-2        0        0        0        0   \n",
       "allegheny-sandwich-shoppe-pittsburgh       13        5       10       13   \n",
       "american-natural-pittsburgh                 2        2        1        3   \n",
       "\n",
       "                                      Topic 8  Topic 9  \n",
       "rest_id                                                 \n",
       "allegheny-sandwich-shop-pittsburgh-2        1        0  \n",
       "allegheny-sandwich-shoppe-pittsburgh        7        0  \n",
       "american-natural-pittsburgh                 4        1  "
      ]
     },
     "execution_count": 242,
     "metadata": {},
     "output_type": "execute_result"
    }
   ],
   "source": [
    "sandwich_counts.head(3)"
   ]
  },
  {
   "cell_type": "code",
   "execution_count": 239,
   "metadata": {
    "collapsed": false
   },
   "outputs": [
    {
     "data": {
      "text/html": [
       "<div>\n",
       "<table border=\"1\" class=\"dataframe\">\n",
       "  <thead>\n",
       "    <tr style=\"text-align: right;\">\n",
       "      <th></th>\n",
       "      <th>Topic 0</th>\n",
       "      <th>Topic 1</th>\n",
       "      <th>Topic 2</th>\n",
       "      <th>Topic 3</th>\n",
       "      <th>Topic 4</th>\n",
       "      <th>Topic 5</th>\n",
       "      <th>Topic 6</th>\n",
       "      <th>Topic 7</th>\n",
       "      <th>Topic 8</th>\n",
       "      <th>Topic 9</th>\n",
       "    </tr>\n",
       "  </thead>\n",
       "  <tbody>\n",
       "    <tr>\n",
       "      <th>Avg Topic Rating</th>\n",
       "      <td>3.752227</td>\n",
       "      <td>3.783224</td>\n",
       "      <td>3.93157</td>\n",
       "      <td>3.640362</td>\n",
       "      <td>3.644068</td>\n",
       "      <td>3.633364</td>\n",
       "      <td>3.517752</td>\n",
       "      <td>3.402239</td>\n",
       "      <td>3.629185</td>\n",
       "      <td>3.801802</td>\n",
       "    </tr>\n",
       "  </tbody>\n",
       "</table>\n",
       "</div>"
      ],
      "text/plain": [
       "                   Topic 0   Topic 1  Topic 2   Topic 3   Topic 4   Topic 5  \\\n",
       "Avg Topic Rating  3.752227  3.783224  3.93157  3.640362  3.644068  3.633364   \n",
       "\n",
       "                   Topic 6   Topic 7   Topic 8   Topic 9  \n",
       "Avg Topic Rating  3.517752  3.402239  3.629185  3.801802  "
      ]
     },
     "execution_count": 239,
     "metadata": {},
     "output_type": "execute_result"
    }
   ],
   "source": [
    "avg_topic_rating(sandwich_ratings,sandwich_counts)"
   ]
  },
  {
   "cell_type": "markdown",
   "metadata": {},
   "source": [
    "LDA analyis for American Restaurants"
   ]
  },
  {
   "cell_type": "code",
   "execution_count": 243,
   "metadata": {
    "collapsed": true
   },
   "outputs": [],
   "source": [
    "cat_american = tokenize_review(cat_american,'reviews_text')"
   ]
  },
  {
   "cell_type": "code",
   "execution_count": 244,
   "metadata": {
    "collapsed": true
   },
   "outputs": [],
   "source": [
    "rare_wrds = get_rare_words(cat_american, 'reviews_token')"
   ]
  },
  {
   "cell_type": "code",
   "execution_count": 245,
   "metadata": {
    "collapsed": true
   },
   "outputs": [],
   "source": [
    "cat_american = reviews_without_rare_words(cat_american,'reviews_token',rare_wrds)"
   ]
  },
  {
   "cell_type": "code",
   "execution_count": 246,
   "metadata": {
    "collapsed": true
   },
   "outputs": [],
   "source": [
    "american_train,american_test = train_test_split(cat_american,0.9)"
   ]
  },
  {
   "cell_type": "code",
   "execution_count": 247,
   "metadata": {
    "collapsed": true
   },
   "outputs": [],
   "source": [
    "american_corpus, american_train_model, american_dictionary = create_LDA_model(american_train,\n",
    "                                                                              'reviews_without_rare_words', 10, 40)"
   ]
  },
  {
   "cell_type": "code",
   "execution_count": 248,
   "metadata": {
    "collapsed": false
   },
   "outputs": [
    {
     "data": {
      "text/plain": [
       "[(0,\n",
       "  u'0.017*\"cream\" + 0.015*\"dessert\" + 0.011*\"dish\" + 0.011*\"cheesecake\" + 0.010*\"cake\" + 0.009*\"ice\" + 0.009*\"chocolate\" + 0.009*\"delicious\" + 0.008*\"ordered\" + 0.008*\"entree\"'),\n",
       " (1,\n",
       "  u'0.044*\"beer\" + 0.020*\"church\" + 0.019*\"pizza\" + 0.018*\"place\" + 0.013*\"good\" + 0.013*\"brew\" + 0.013*\"great\" + 0.011*\"pittsburgh\" + 0.011*\"food\" + 0.008*\"like\"'),\n",
       " (2,\n",
       "  u'0.018*\"food\" + 0.013*\"amazing\" + 0.013*\"restaurant\" + 0.010*\"double\" + 0.009*\"place\" + 0.009*\"drink\" + 0.009*\"great\" + 0.008*\"wide\" + 0.008*\"group\" + 0.007*\"chef\"'),\n",
       " (3,\n",
       "  u'0.020*\"cheese\" + 0.018*\"chicken\" + 0.017*\"sandwich\" + 0.015*\"good\" + 0.014*\"ordered\" + 0.013*\"salad\" + 0.013*\"steak\" + 0.013*\"fry\" + 0.010*\"got\" + 0.010*\"side\"'),\n",
       " (4,\n",
       "  u'0.030*\"bar\" + 0.018*\"place\" + 0.013*\"game\" + 0.011*\"one\" + 0.010*\"like\" + 0.010*\"food\" + 0.009*\"go\" + 0.009*\"pittsburgh\" + 0.008*\"time\" + 0.006*\"area\"'),\n",
       " (5,\n",
       "  u'0.021*\"view\" + 0.010*\"old\" + 0.009*\"pittsburgh\" + 0.009*\"man\" + 0.008*\"diner\" + 0.007*\"special\" + 0.007*\"server\" + 0.007*\"room\" + 0.007*\"city\" + 0.006*\"woman\"'),\n",
       " (6,\n",
       "  u'0.024*\"food\" + 0.022*\"good\" + 0.018*\"place\" + 0.013*\"service\" + 0.012*\"great\" + 0.010*\"really\" + 0.010*\"menu\" + 0.010*\"get\" + 0.009*\"time\" + 0.009*\"like\"'),\n",
       " (7,\n",
       "  u'0.085*\"burger\" + 0.024*\"fry\" + 0.012*\"like\" + 0.012*\"good\" + 0.011*\"pretzel\" + 0.010*\"cheese\" + 0.009*\"get\" + 0.009*\"well\" + 0.008*\"brgr\" + 0.008*\"best\"'),\n",
       " (8,\n",
       "  u'0.025*\"great\" + 0.023*\"beer\" + 0.017*\"wing\" + 0.017*\"good\" + 0.016*\"food\" + 0.016*\"place\" + 0.015*\"drink\" + 0.013*\"bar\" + 0.011*\"selection\" + 0.010*\"happy\"'),\n",
       " (9,\n",
       "  u'0.019*\"u\" + 0.014*\"food\" + 0.014*\"table\" + 0.012*\"time\" + 0.010*\"would\" + 0.010*\"minute\" + 0.009*\"came\" + 0.009*\"order\" + 0.009*\"back\" + 0.008*\"waitress\"')]"
      ]
     },
     "execution_count": 248,
     "metadata": {},
     "output_type": "execute_result"
    }
   ],
   "source": [
    "american_train_model.print_topics(num_topics = 10 ,num_words = 10)"
   ]
  },
  {
   "cell_type": "code",
   "execution_count": 249,
   "metadata": {
    "collapsed": false
   },
   "outputs": [
    {
     "data": {
      "text/plain": [
       "u'Just ate here tonight. The restaurant is very nice and clean. The hostess was very nice and we were seated right away. Our server was also very nice and very attentive. The food was outstanding, everyone we came in contact with was pleasant. The only complaint was that it was very cold. The restaurant does not control the temperature, the Energy Console building does. Just bring a sweatshirt! We definitely will be back.'"
      ]
     },
     "execution_count": 249,
     "metadata": {},
     "output_type": "execute_result"
    }
   ],
   "source": [
    "american_test.iloc[2]['reviews_text']"
   ]
  },
  {
   "cell_type": "code",
   "execution_count": 250,
   "metadata": {
    "collapsed": false
   },
   "outputs": [
    {
     "data": {
      "text/plain": [
       "[(0, 0.099727549941546187),\n",
       " (2, 0.042764759183311109),\n",
       " (6, 0.48237739646659583),\n",
       " (9, 0.35694403559702059)]"
      ]
     },
     "execution_count": 250,
     "metadata": {},
     "output_type": "execute_result"
    }
   ],
   "source": [
    "get_topic_distribution(american_train_model, american_dictionary, american_test.iloc[2]['reviews_without_rare_words'])"
   ]
  },
  {
   "cell_type": "code",
   "execution_count": 251,
   "metadata": {
    "collapsed": true
   },
   "outputs": [],
   "source": [
    "american_ratings, american_counts = topic_ratings_all(american_dictionary, american_train_model, cat_american, 'reviews_without_rare_words', 10)"
   ]
  },
  {
   "cell_type": "code",
   "execution_count": 252,
   "metadata": {
    "collapsed": false
   },
   "outputs": [
    {
     "data": {
      "text/html": [
       "<div>\n",
       "<table border=\"1\" class=\"dataframe\">\n",
       "  <thead>\n",
       "    <tr style=\"text-align: right;\">\n",
       "      <th></th>\n",
       "      <th>Topic 0</th>\n",
       "      <th>Topic 1</th>\n",
       "      <th>Topic 2</th>\n",
       "      <th>Topic 3</th>\n",
       "      <th>Topic 4</th>\n",
       "      <th>Topic 5</th>\n",
       "      <th>Topic 6</th>\n",
       "      <th>Topic 7</th>\n",
       "      <th>Topic 8</th>\n",
       "      <th>Topic 9</th>\n",
       "    </tr>\n",
       "    <tr>\n",
       "      <th>rest_id</th>\n",
       "      <th></th>\n",
       "      <th></th>\n",
       "      <th></th>\n",
       "      <th></th>\n",
       "      <th></th>\n",
       "      <th></th>\n",
       "      <th></th>\n",
       "      <th></th>\n",
       "      <th></th>\n",
       "      <th></th>\n",
       "    </tr>\n",
       "  </thead>\n",
       "  <tbody>\n",
       "    <tr>\n",
       "      <th>20th-st-bar-and-grill-pittsburgh</th>\n",
       "      <td>2.000000</td>\n",
       "      <td>NaN</td>\n",
       "      <td>NaN</td>\n",
       "      <td>1.000000</td>\n",
       "      <td>1.500</td>\n",
       "      <td>NaN</td>\n",
       "      <td>2.000000</td>\n",
       "      <td>2.00</td>\n",
       "      <td>1.500000</td>\n",
       "      <td>1.500000</td>\n",
       "    </tr>\n",
       "    <tr>\n",
       "      <th>5801-video-lounge-and-café-pittsburgh-2</th>\n",
       "      <td>3.857143</td>\n",
       "      <td>3.6</td>\n",
       "      <td>3.500000</td>\n",
       "      <td>4.375000</td>\n",
       "      <td>3.560</td>\n",
       "      <td>3.857143</td>\n",
       "      <td>3.780488</td>\n",
       "      <td>4.00</td>\n",
       "      <td>3.759259</td>\n",
       "      <td>3.290323</td>\n",
       "    </tr>\n",
       "    <tr>\n",
       "      <th>apollo-cafe-pittsburgh</th>\n",
       "      <td>3.800000</td>\n",
       "      <td>3.1</td>\n",
       "      <td>3.555556</td>\n",
       "      <td>3.578947</td>\n",
       "      <td>3.375</td>\n",
       "      <td>3.400000</td>\n",
       "      <td>3.600000</td>\n",
       "      <td>3.25</td>\n",
       "      <td>3.800000</td>\n",
       "      <td>3.636364</td>\n",
       "    </tr>\n",
       "  </tbody>\n",
       "</table>\n",
       "</div>"
      ],
      "text/plain": [
       "                                          Topic 0  Topic 1   Topic 2  \\\n",
       "rest_id                                                                \n",
       "20th-st-bar-and-grill-pittsburgh         2.000000      NaN       NaN   \n",
       "5801-video-lounge-and-café-pittsburgh-2  3.857143      3.6  3.500000   \n",
       "apollo-cafe-pittsburgh                   3.800000      3.1  3.555556   \n",
       "\n",
       "                                          Topic 3  Topic 4   Topic 5  \\\n",
       "rest_id                                                                \n",
       "20th-st-bar-and-grill-pittsburgh         1.000000    1.500       NaN   \n",
       "5801-video-lounge-and-café-pittsburgh-2  4.375000    3.560  3.857143   \n",
       "apollo-cafe-pittsburgh                   3.578947    3.375  3.400000   \n",
       "\n",
       "                                          Topic 6  Topic 7   Topic 8   Topic 9  \n",
       "rest_id                                                                         \n",
       "20th-st-bar-and-grill-pittsburgh         2.000000     2.00  1.500000  1.500000  \n",
       "5801-video-lounge-and-café-pittsburgh-2  3.780488     4.00  3.759259  3.290323  \n",
       "apollo-cafe-pittsburgh                   3.600000     3.25  3.800000  3.636364  "
      ]
     },
     "execution_count": 252,
     "metadata": {},
     "output_type": "execute_result"
    }
   ],
   "source": [
    "american_ratings.head(3)"
   ]
  },
  {
   "cell_type": "code",
   "execution_count": 253,
   "metadata": {
    "collapsed": false
   },
   "outputs": [
    {
     "data": {
      "text/html": [
       "<div>\n",
       "<table border=\"1\" class=\"dataframe\">\n",
       "  <thead>\n",
       "    <tr style=\"text-align: right;\">\n",
       "      <th></th>\n",
       "      <th>Topic 0</th>\n",
       "      <th>Topic 1</th>\n",
       "      <th>Topic 2</th>\n",
       "      <th>Topic 3</th>\n",
       "      <th>Topic 4</th>\n",
       "      <th>Topic 5</th>\n",
       "      <th>Topic 6</th>\n",
       "      <th>Topic 7</th>\n",
       "      <th>Topic 8</th>\n",
       "      <th>Topic 9</th>\n",
       "    </tr>\n",
       "    <tr>\n",
       "      <th>rest_id</th>\n",
       "      <th></th>\n",
       "      <th></th>\n",
       "      <th></th>\n",
       "      <th></th>\n",
       "      <th></th>\n",
       "      <th></th>\n",
       "      <th></th>\n",
       "      <th></th>\n",
       "      <th></th>\n",
       "      <th></th>\n",
       "    </tr>\n",
       "  </thead>\n",
       "  <tbody>\n",
       "    <tr>\n",
       "      <th>20th-st-bar-and-grill-pittsburgh</th>\n",
       "      <td>1</td>\n",
       "      <td>0</td>\n",
       "      <td>0</td>\n",
       "      <td>1</td>\n",
       "      <td>2</td>\n",
       "      <td>0</td>\n",
       "      <td>1</td>\n",
       "      <td>1</td>\n",
       "      <td>2</td>\n",
       "      <td>2</td>\n",
       "    </tr>\n",
       "    <tr>\n",
       "      <th>5801-video-lounge-and-café-pittsburgh-2</th>\n",
       "      <td>7</td>\n",
       "      <td>20</td>\n",
       "      <td>16</td>\n",
       "      <td>8</td>\n",
       "      <td>50</td>\n",
       "      <td>14</td>\n",
       "      <td>41</td>\n",
       "      <td>13</td>\n",
       "      <td>54</td>\n",
       "      <td>31</td>\n",
       "    </tr>\n",
       "    <tr>\n",
       "      <th>apollo-cafe-pittsburgh</th>\n",
       "      <td>5</td>\n",
       "      <td>10</td>\n",
       "      <td>9</td>\n",
       "      <td>19</td>\n",
       "      <td>8</td>\n",
       "      <td>5</td>\n",
       "      <td>20</td>\n",
       "      <td>8</td>\n",
       "      <td>5</td>\n",
       "      <td>11</td>\n",
       "    </tr>\n",
       "  </tbody>\n",
       "</table>\n",
       "</div>"
      ],
      "text/plain": [
       "                                         Topic 0  Topic 1  Topic 2  Topic 3  \\\n",
       "rest_id                                                                       \n",
       "20th-st-bar-and-grill-pittsburgh               1        0        0        1   \n",
       "5801-video-lounge-and-café-pittsburgh-2        7       20       16        8   \n",
       "apollo-cafe-pittsburgh                         5       10        9       19   \n",
       "\n",
       "                                         Topic 4  Topic 5  Topic 6  Topic 7  \\\n",
       "rest_id                                                                       \n",
       "20th-st-bar-and-grill-pittsburgh               2        0        1        1   \n",
       "5801-video-lounge-and-café-pittsburgh-2       50       14       41       13   \n",
       "apollo-cafe-pittsburgh                         8        5       20        8   \n",
       "\n",
       "                                         Topic 8  Topic 9  \n",
       "rest_id                                                    \n",
       "20th-st-bar-and-grill-pittsburgh               2        2  \n",
       "5801-video-lounge-and-café-pittsburgh-2       54       31  \n",
       "apollo-cafe-pittsburgh                         5       11  "
      ]
     },
     "execution_count": 253,
     "metadata": {},
     "output_type": "execute_result"
    }
   ],
   "source": [
    "american_counts.head(3)"
   ]
  },
  {
   "cell_type": "code",
   "execution_count": 254,
   "metadata": {
    "collapsed": false
   },
   "outputs": [
    {
     "data": {
      "text/html": [
       "<div>\n",
       "<table border=\"1\" class=\"dataframe\">\n",
       "  <thead>\n",
       "    <tr style=\"text-align: right;\">\n",
       "      <th></th>\n",
       "      <th>Topic 0</th>\n",
       "      <th>Topic 1</th>\n",
       "      <th>Topic 2</th>\n",
       "      <th>Topic 3</th>\n",
       "      <th>Topic 4</th>\n",
       "      <th>Topic 5</th>\n",
       "      <th>Topic 6</th>\n",
       "      <th>Topic 7</th>\n",
       "      <th>Topic 8</th>\n",
       "      <th>Topic 9</th>\n",
       "    </tr>\n",
       "  </thead>\n",
       "  <tbody>\n",
       "    <tr>\n",
       "      <th>Avg Topic Rating</th>\n",
       "      <td>3.591703</td>\n",
       "      <td>3.658163</td>\n",
       "      <td>3.500925</td>\n",
       "      <td>3.561055</td>\n",
       "      <td>3.572752</td>\n",
       "      <td>3.410438</td>\n",
       "      <td>3.557349</td>\n",
       "      <td>3.530136</td>\n",
       "      <td>3.761672</td>\n",
       "      <td>3.209442</td>\n",
       "    </tr>\n",
       "  </tbody>\n",
       "</table>\n",
       "</div>"
      ],
      "text/plain": [
       "                   Topic 0   Topic 1   Topic 2   Topic 3   Topic 4   Topic 5  \\\n",
       "Avg Topic Rating  3.591703  3.658163  3.500925  3.561055  3.572752  3.410438   \n",
       "\n",
       "                   Topic 6   Topic 7   Topic 8   Topic 9  \n",
       "Avg Topic Rating  3.557349  3.530136  3.761672  3.209442  "
      ]
     },
     "execution_count": 254,
     "metadata": {},
     "output_type": "execute_result"
    }
   ],
   "source": [
    "avg_topic_rating(american_ratings,american_counts)"
   ]
  },
  {
   "cell_type": "markdown",
   "metadata": {},
   "source": [
    "### Future Directions\n",
    "\n",
    "This model can further be improved by adding parts-of-speech tagging method to extract only nouns in the reviews. This can help us to identify the topics better.  Parameter optimization is the important aspect in this project. The optimal number of topics can be obtained using Kullback Leibller Divergence model. Also Dimensionality reduction can also be applied to check if it can improve the results of topic.  One other method is to do Batch LDA on the corpus to extract topics in each batches and take intersection of the topics to extract important topics.[4,5]"
   ]
  },
  {
   "cell_type": "markdown",
   "metadata": {},
   "source": [
    "### References\n",
    "\n",
    "1) Gensim Library : https://radimrehurek.com/gensim/ <br />\n",
    "2) Textblob : https://rstudio-pubs-static.s3.amazonaws.com/79360_850b2a69980c4488b1db95987a24867a.html <br />\n",
    "3) \"Latent Dirichlet allocation\", Wikipedia : https://en.wikipedia.org/wiki/Latent_Dirichlet_allocation <br />\n",
    "4) http://link.springer.com/chapter/10.1007%2F978-3-642-13657-3_43 <br />\n",
    "5) \"Beginners Guide to Topic Modeling in Python\" : https://www.analyticsvidhya.com/blog/2016/08/beginners-guide-to-topic-modeling-in-python/"
   ]
  },
  {
   "cell_type": "code",
   "execution_count": null,
   "metadata": {
    "collapsed": true
   },
   "outputs": [],
   "source": []
  }
 ],
 "metadata": {
  "kernelspec": {
   "display_name": "Python [Root]",
   "language": "python",
   "name": "Python [Root]"
  },
  "language_info": {
   "codemirror_mode": {
    "name": "ipython",
    "version": 2
   },
   "file_extension": ".py",
   "mimetype": "text/x-python",
   "name": "python",
   "nbconvert_exporter": "python",
   "pygments_lexer": "ipython2",
   "version": "2.7.12"
  }
 },
 "nbformat": 4,
 "nbformat_minor": 0
}
